{
 "cells": [
  {
   "cell_type": "code",
   "execution_count": 2,
   "id": "587e6ed0-f1f2-4db8-a2ff-ab7888a387c7",
   "metadata": {},
   "outputs": [],
   "source": [
    "import pandas as pd\n",
    "import numpy as np\n",
    "import matplotlib as mt\n",
    "import seaborn as sn\n",
    "from os import *"
   ]
  },
  {
   "cell_type": "code",
   "execution_count": 3,
   "id": "8307a481",
   "metadata": {
    "scrolled": true
   },
   "outputs": [
    {
     "data": {
      "text/plain": [
       "['C:\\\\Users\\\\tanmay\\\\IITM Capsstone Project\\\\txn_data\\\\01JUL2024-01JUL2024_BILLS.parquet',\n",
       " 'C:\\\\Users\\\\tanmay\\\\IITM Capsstone Project\\\\txn_data\\\\01JUN2024-01JUN2024_BILLS.parquet',\n",
       " 'C:\\\\Users\\\\tanmay\\\\IITM Capsstone Project\\\\txn_data\\\\01MAY2024-01MAY2024_BILLS.parquet',\n",
       " 'C:\\\\Users\\\\tanmay\\\\IITM Capsstone Project\\\\txn_data\\\\02JUL2024-02JUL2024_BILLS.parquet',\n",
       " 'C:\\\\Users\\\\tanmay\\\\IITM Capsstone Project\\\\txn_data\\\\02JUN2024-02JUN2024_BILLS.parquet',\n",
       " 'C:\\\\Users\\\\tanmay\\\\IITM Capsstone Project\\\\txn_data\\\\02MAY2024-02MAY2024_BILLS.parquet',\n",
       " 'C:\\\\Users\\\\tanmay\\\\IITM Capsstone Project\\\\txn_data\\\\03JUL2024-03JUL2024_BILLS.parquet',\n",
       " 'C:\\\\Users\\\\tanmay\\\\IITM Capsstone Project\\\\txn_data\\\\03JUN2024-03JUN2024_BILLS.parquet',\n",
       " 'C:\\\\Users\\\\tanmay\\\\IITM Capsstone Project\\\\txn_data\\\\03MAY2024-03MAY2024_BILLS.parquet',\n",
       " 'C:\\\\Users\\\\tanmay\\\\IITM Capsstone Project\\\\txn_data\\\\04JUL2024-04JUL2024_BILLS.parquet',\n",
       " 'C:\\\\Users\\\\tanmay\\\\IITM Capsstone Project\\\\txn_data\\\\04JUN2024-04JUN2024_BILLS.parquet',\n",
       " 'C:\\\\Users\\\\tanmay\\\\IITM Capsstone Project\\\\txn_data\\\\04MAY2024-04MAY2024_BILLS.parquet',\n",
       " 'C:\\\\Users\\\\tanmay\\\\IITM Capsstone Project\\\\txn_data\\\\05JUL2024-05JUL2024_BILLS.parquet',\n",
       " 'C:\\\\Users\\\\tanmay\\\\IITM Capsstone Project\\\\txn_data\\\\05JUN2024-05JUN2024_BILLS.parquet',\n",
       " 'C:\\\\Users\\\\tanmay\\\\IITM Capsstone Project\\\\txn_data\\\\05MAY2024-05MAY2024_BILLS.parquet',\n",
       " 'C:\\\\Users\\\\tanmay\\\\IITM Capsstone Project\\\\txn_data\\\\06JUL2024-06JUL2024_BILLS.parquet',\n",
       " 'C:\\\\Users\\\\tanmay\\\\IITM Capsstone Project\\\\txn_data\\\\06JUN2024-06JUN2024_BILLS.parquet',\n",
       " 'C:\\\\Users\\\\tanmay\\\\IITM Capsstone Project\\\\txn_data\\\\06MAY2024-06MAY2024_BILLS.parquet',\n",
       " 'C:\\\\Users\\\\tanmay\\\\IITM Capsstone Project\\\\txn_data\\\\07JUL2024-07JUL2024_BILLS.parquet',\n",
       " 'C:\\\\Users\\\\tanmay\\\\IITM Capsstone Project\\\\txn_data\\\\07JUN2024-07JUN2024_BILLS.parquet',\n",
       " 'C:\\\\Users\\\\tanmay\\\\IITM Capsstone Project\\\\txn_data\\\\07MAY2024-07MAY2024_BILLS.parquet',\n",
       " 'C:\\\\Users\\\\tanmay\\\\IITM Capsstone Project\\\\txn_data\\\\08JUL2024-08JUL2024_BILLS.parquet',\n",
       " 'C:\\\\Users\\\\tanmay\\\\IITM Capsstone Project\\\\txn_data\\\\08JUN2024-08JUN2024_BILLS.parquet',\n",
       " 'C:\\\\Users\\\\tanmay\\\\IITM Capsstone Project\\\\txn_data\\\\08MAY2024-08MAY2024_BILLS.parquet',\n",
       " 'C:\\\\Users\\\\tanmay\\\\IITM Capsstone Project\\\\txn_data\\\\09JUL2024-09JUL2024_BILLS.parquet',\n",
       " 'C:\\\\Users\\\\tanmay\\\\IITM Capsstone Project\\\\txn_data\\\\09JUN2024-09JUN2024_BILLS.parquet',\n",
       " 'C:\\\\Users\\\\tanmay\\\\IITM Capsstone Project\\\\txn_data\\\\09MAY2024-09MAY2024_BILLS.parquet',\n",
       " 'C:\\\\Users\\\\tanmay\\\\IITM Capsstone Project\\\\txn_data\\\\10JUL2024-10JUL2024_BILLS.parquet',\n",
       " 'C:\\\\Users\\\\tanmay\\\\IITM Capsstone Project\\\\txn_data\\\\10JUN2024-10JUN2024_BILLS.parquet',\n",
       " 'C:\\\\Users\\\\tanmay\\\\IITM Capsstone Project\\\\txn_data\\\\10MAY2024-10MAY2024_BILLS.parquet',\n",
       " 'C:\\\\Users\\\\tanmay\\\\IITM Capsstone Project\\\\txn_data\\\\11JUL2024-11JUL2024_BILLS.parquet',\n",
       " 'C:\\\\Users\\\\tanmay\\\\IITM Capsstone Project\\\\txn_data\\\\11JUN2024-11JUN2024_BILLS.parquet',\n",
       " 'C:\\\\Users\\\\tanmay\\\\IITM Capsstone Project\\\\txn_data\\\\11MAY2024-11MAY2024_BILLS.parquet',\n",
       " 'C:\\\\Users\\\\tanmay\\\\IITM Capsstone Project\\\\txn_data\\\\12JUL2024-12JUL2024_BILLS.parquet',\n",
       " 'C:\\\\Users\\\\tanmay\\\\IITM Capsstone Project\\\\txn_data\\\\12JUN2024-12JUN2024_BILLS.parquet',\n",
       " 'C:\\\\Users\\\\tanmay\\\\IITM Capsstone Project\\\\txn_data\\\\12MAY2024-12MAY2024_BILLS.parquet',\n",
       " 'C:\\\\Users\\\\tanmay\\\\IITM Capsstone Project\\\\txn_data\\\\13JUL2024-13JUL2024_BILLS.parquet',\n",
       " 'C:\\\\Users\\\\tanmay\\\\IITM Capsstone Project\\\\txn_data\\\\13JUN2024-13JUN2024_BILLS.parquet',\n",
       " 'C:\\\\Users\\\\tanmay\\\\IITM Capsstone Project\\\\txn_data\\\\13MAY2024-13MAY2024_BILLS.parquet',\n",
       " 'C:\\\\Users\\\\tanmay\\\\IITM Capsstone Project\\\\txn_data\\\\14JUL2024-14JUL2024_BILLS.parquet',\n",
       " 'C:\\\\Users\\\\tanmay\\\\IITM Capsstone Project\\\\txn_data\\\\14JUN2024-14JUN2024_BILLS.parquet',\n",
       " 'C:\\\\Users\\\\tanmay\\\\IITM Capsstone Project\\\\txn_data\\\\14MAY2024-14MAY2024_BILLS.parquet',\n",
       " 'C:\\\\Users\\\\tanmay\\\\IITM Capsstone Project\\\\txn_data\\\\15JUL2024-15JUL2024_BILLS.parquet',\n",
       " 'C:\\\\Users\\\\tanmay\\\\IITM Capsstone Project\\\\txn_data\\\\15JUN2024-15JUN2024_BILLS.parquet',\n",
       " 'C:\\\\Users\\\\tanmay\\\\IITM Capsstone Project\\\\txn_data\\\\15MAY2024-15MAY2024_BILLS.parquet',\n",
       " 'C:\\\\Users\\\\tanmay\\\\IITM Capsstone Project\\\\txn_data\\\\16JUL2024-16JUL2024_BILLS.parquet',\n",
       " 'C:\\\\Users\\\\tanmay\\\\IITM Capsstone Project\\\\txn_data\\\\16JUN2024-16JUN2024_BILLS.parquet',\n",
       " 'C:\\\\Users\\\\tanmay\\\\IITM Capsstone Project\\\\txn_data\\\\16MAY2024-16MAY2024_BILLS.parquet',\n",
       " 'C:\\\\Users\\\\tanmay\\\\IITM Capsstone Project\\\\txn_data\\\\17JUL2024-17JUL2024_BILLS.parquet',\n",
       " 'C:\\\\Users\\\\tanmay\\\\IITM Capsstone Project\\\\txn_data\\\\17JUN2024-17JUN2024_BILLS.parquet',\n",
       " 'C:\\\\Users\\\\tanmay\\\\IITM Capsstone Project\\\\txn_data\\\\17MAY2024-17MAY2024_BILLS.parquet',\n",
       " 'C:\\\\Users\\\\tanmay\\\\IITM Capsstone Project\\\\txn_data\\\\18JUL2024-18JUL2024_BILLS.parquet',\n",
       " 'C:\\\\Users\\\\tanmay\\\\IITM Capsstone Project\\\\txn_data\\\\18JUN2024-18JUN2024_BILLS.parquet',\n",
       " 'C:\\\\Users\\\\tanmay\\\\IITM Capsstone Project\\\\txn_data\\\\18MAY2024-18MAY2024_BILLS.parquet',\n",
       " 'C:\\\\Users\\\\tanmay\\\\IITM Capsstone Project\\\\txn_data\\\\19JUL2024-19JUL2024_BILLS.parquet',\n",
       " 'C:\\\\Users\\\\tanmay\\\\IITM Capsstone Project\\\\txn_data\\\\19JUN2024-19JUN2024_BILLS.parquet',\n",
       " 'C:\\\\Users\\\\tanmay\\\\IITM Capsstone Project\\\\txn_data\\\\19MAY2024-19MAY2024_BILLS.parquet',\n",
       " 'C:\\\\Users\\\\tanmay\\\\IITM Capsstone Project\\\\txn_data\\\\20JUL2024-20JUL2024_BILLS.parquet',\n",
       " 'C:\\\\Users\\\\tanmay\\\\IITM Capsstone Project\\\\txn_data\\\\20JUN2024-20JUN2024_BILLS.parquet',\n",
       " 'C:\\\\Users\\\\tanmay\\\\IITM Capsstone Project\\\\txn_data\\\\20MAY2024-20MAY2024_BILLS.parquet',\n",
       " 'C:\\\\Users\\\\tanmay\\\\IITM Capsstone Project\\\\txn_data\\\\21JUL2024-21JUL2024_BILLS.parquet',\n",
       " 'C:\\\\Users\\\\tanmay\\\\IITM Capsstone Project\\\\txn_data\\\\21JUN2024-21JUN2024_BILLS.parquet',\n",
       " 'C:\\\\Users\\\\tanmay\\\\IITM Capsstone Project\\\\txn_data\\\\21MAY2024-21MAY2024_BILLS.parquet',\n",
       " 'C:\\\\Users\\\\tanmay\\\\IITM Capsstone Project\\\\txn_data\\\\22JUL2024-22JUL2024_BILLS.parquet',\n",
       " 'C:\\\\Users\\\\tanmay\\\\IITM Capsstone Project\\\\txn_data\\\\22JUN2024-22JUN2024_BILLS.parquet',\n",
       " 'C:\\\\Users\\\\tanmay\\\\IITM Capsstone Project\\\\txn_data\\\\22MAY2024-22MAY2024_BILLS.parquet',\n",
       " 'C:\\\\Users\\\\tanmay\\\\IITM Capsstone Project\\\\txn_data\\\\23JUL2024-23JUL2024_BILLS.parquet',\n",
       " 'C:\\\\Users\\\\tanmay\\\\IITM Capsstone Project\\\\txn_data\\\\23JUN2024-23JUN2024_BILLS.parquet',\n",
       " 'C:\\\\Users\\\\tanmay\\\\IITM Capsstone Project\\\\txn_data\\\\23MAY2024-23MAY2024_BILLS.parquet',\n",
       " 'C:\\\\Users\\\\tanmay\\\\IITM Capsstone Project\\\\txn_data\\\\24JUL2024-24JUL2024_BILLS.parquet',\n",
       " 'C:\\\\Users\\\\tanmay\\\\IITM Capsstone Project\\\\txn_data\\\\24JUN2024-24JUN2024_BILLS.parquet',\n",
       " 'C:\\\\Users\\\\tanmay\\\\IITM Capsstone Project\\\\txn_data\\\\24MAY2024-24MAY2024_BILLS.parquet',\n",
       " 'C:\\\\Users\\\\tanmay\\\\IITM Capsstone Project\\\\txn_data\\\\25JUL2024-25JUL2024_BILLS.parquet',\n",
       " 'C:\\\\Users\\\\tanmay\\\\IITM Capsstone Project\\\\txn_data\\\\25JUN2024-25JUN2024_BILLS.parquet',\n",
       " 'C:\\\\Users\\\\tanmay\\\\IITM Capsstone Project\\\\txn_data\\\\25MAY2024-25MAY2024_BILLS.parquet',\n",
       " 'C:\\\\Users\\\\tanmay\\\\IITM Capsstone Project\\\\txn_data\\\\26JUL2024-26JUL2024_BILLS.parquet',\n",
       " 'C:\\\\Users\\\\tanmay\\\\IITM Capsstone Project\\\\txn_data\\\\26JUN2024-26JUN2024_BILLS.parquet',\n",
       " 'C:\\\\Users\\\\tanmay\\\\IITM Capsstone Project\\\\txn_data\\\\26MAY2024-26MAY2024_BILLS.parquet',\n",
       " 'C:\\\\Users\\\\tanmay\\\\IITM Capsstone Project\\\\txn_data\\\\27JUL2024-27JUL2024_BILLS.parquet',\n",
       " 'C:\\\\Users\\\\tanmay\\\\IITM Capsstone Project\\\\txn_data\\\\27JUN2024-27JUN2024_BILLS.parquet',\n",
       " 'C:\\\\Users\\\\tanmay\\\\IITM Capsstone Project\\\\txn_data\\\\27MAY2024-27MAY2024_BILLS.parquet',\n",
       " 'C:\\\\Users\\\\tanmay\\\\IITM Capsstone Project\\\\txn_data\\\\28JUL2024-28JUL2024_BILLS.parquet',\n",
       " 'C:\\\\Users\\\\tanmay\\\\IITM Capsstone Project\\\\txn_data\\\\28JUN2024-28JUN2024_BILLS.parquet',\n",
       " 'C:\\\\Users\\\\tanmay\\\\IITM Capsstone Project\\\\txn_data\\\\28MAY2024-28MAY2024_BILLS.parquet',\n",
       " 'C:\\\\Users\\\\tanmay\\\\IITM Capsstone Project\\\\txn_data\\\\29JUL2024-29JUL2024_BILLS.parquet',\n",
       " 'C:\\\\Users\\\\tanmay\\\\IITM Capsstone Project\\\\txn_data\\\\29JUN2024-29JUN2024_BILLS.parquet',\n",
       " 'C:\\\\Users\\\\tanmay\\\\IITM Capsstone Project\\\\txn_data\\\\29MAY2024-29MAY2024_BILLS.parquet',\n",
       " 'C:\\\\Users\\\\tanmay\\\\IITM Capsstone Project\\\\txn_data\\\\30JUL2024-30JUL2024_BILLS.parquet',\n",
       " 'C:\\\\Users\\\\tanmay\\\\IITM Capsstone Project\\\\txn_data\\\\30JUN2024-30JUN2024_BILLS.parquet',\n",
       " 'C:\\\\Users\\\\tanmay\\\\IITM Capsstone Project\\\\txn_data\\\\30MAY2024-30MAY2024_BILLS.parquet',\n",
       " 'C:\\\\Users\\\\tanmay\\\\IITM Capsstone Project\\\\txn_data\\\\31JUL2024-31JUL2024_BILLS.parquet',\n",
       " 'C:\\\\Users\\\\tanmay\\\\IITM Capsstone Project\\\\txn_data\\\\31MAY2024-31MAY2024_BILLS.parquet']"
      ]
     },
     "execution_count": 3,
     "metadata": {},
     "output_type": "execute_result"
    }
   ],
   "source": [
    "mypath = r\"C:\\Users\\tanmay\\IITM Capsstone Project\\txn_data\"\n",
    "onlyfiles = [path.join(mypath, f) for f in listdir(mypath)]\n",
    "onlyfiles = onlyfiles[:-1]\n",
    "onlyfiles"
   ]
  },
  {
   "cell_type": "code",
   "execution_count": 4,
   "id": "4df69240",
   "metadata": {},
   "outputs": [
    {
     "data": {
      "text/plain": [
       "92"
      ]
     },
     "execution_count": 4,
     "metadata": {},
     "output_type": "execute_result"
    }
   ],
   "source": [
    "len(onlyfiles)"
   ]
  },
  {
   "cell_type": "code",
   "execution_count": 5,
   "id": "9370986b",
   "metadata": {},
   "outputs": [
    {
     "data": {
      "text/html": [
       "<div>\n",
       "<style scoped>\n",
       "    .dataframe tbody tr th:only-of-type {\n",
       "        vertical-align: middle;\n",
       "    }\n",
       "\n",
       "    .dataframe tbody tr th {\n",
       "        vertical-align: top;\n",
       "    }\n",
       "\n",
       "    .dataframe thead th {\n",
       "        text-align: right;\n",
       "    }\n",
       "</style>\n",
       "<table border=\"1\" class=\"dataframe\">\n",
       "  <thead>\n",
       "    <tr style=\"text-align: right;\">\n",
       "      <th></th>\n",
       "      <th>UDFSTRING15</th>\n",
       "      <th>OPH3</th>\n",
       "      <th>SHRTNAME</th>\n",
       "      <th>ADM_SITE_CODE</th>\n",
       "      <th>BILLDATE</th>\n",
       "      <th>LEV1GRPNAME</th>\n",
       "      <th>LEV2GRPNAME</th>\n",
       "      <th>GRPNAME</th>\n",
       "      <th>ARTICLECODE</th>\n",
       "      <th>ARTICLENAME</th>\n",
       "      <th>...</th>\n",
       "      <th>UDFSTRING07</th>\n",
       "      <th>UDFSTRING08</th>\n",
       "      <th>UDFSTRING09</th>\n",
       "      <th>UDFSTRING10</th>\n",
       "      <th>GROSSAMT</th>\n",
       "      <th>MRPAMT</th>\n",
       "      <th>NETAMT</th>\n",
       "      <th>QTY</th>\n",
       "      <th>DISCOUNTAMT</th>\n",
       "      <th>PROMOAMT</th>\n",
       "    </tr>\n",
       "  </thead>\n",
       "  <tbody>\n",
       "    <tr>\n",
       "      <th>0</th>\n",
       "      <td>None</td>\n",
       "      <td>BIHAR 1</td>\n",
       "      <td>PATNA-GRAVITY MALL</td>\n",
       "      <td>102633.0</td>\n",
       "      <td>2024-07-01</td>\n",
       "      <td>Girls</td>\n",
       "      <td>Girls Senior</td>\n",
       "      <td>T-Shirt FS[G]</td>\n",
       "      <td>53637.0</td>\n",
       "      <td>ECO-[GTSFS01]</td>\n",
       "      <td>...</td>\n",
       "      <td>FRONT</td>\n",
       "      <td>REGULAR</td>\n",
       "      <td>None</td>\n",
       "      <td>None</td>\n",
       "      <td>149.25</td>\n",
       "      <td>199.0</td>\n",
       "      <td>149.25</td>\n",
       "      <td>1.0</td>\n",
       "      <td>0.0</td>\n",
       "      <td>49.75</td>\n",
       "    </tr>\n",
       "    <tr>\n",
       "      <th>1</th>\n",
       "      <td>DIGITAL</td>\n",
       "      <td>TN</td>\n",
       "      <td>KRISHNAGIRI-BANGALORE</td>\n",
       "      <td>101694.0</td>\n",
       "      <td>2024-07-01</td>\n",
       "      <td>Women Western</td>\n",
       "      <td>Western Lower</td>\n",
       "      <td>Trouser[L]</td>\n",
       "      <td>18109.0</td>\n",
       "      <td>POPULAR-[LLTS03]</td>\n",
       "      <td>...</td>\n",
       "      <td>None</td>\n",
       "      <td>REGULAR</td>\n",
       "      <td>WITHOUT POCKET</td>\n",
       "      <td>None</td>\n",
       "      <td>649.00</td>\n",
       "      <td>649.0</td>\n",
       "      <td>649.00</td>\n",
       "      <td>1.0</td>\n",
       "      <td>0.0</td>\n",
       "      <td>0.00</td>\n",
       "    </tr>\n",
       "    <tr>\n",
       "      <th>2</th>\n",
       "      <td>DIGITAL</td>\n",
       "      <td>BIHAR 1</td>\n",
       "      <td>PATNA-GOLA ROAD</td>\n",
       "      <td>102483.0</td>\n",
       "      <td>2024-07-01</td>\n",
       "      <td>Men</td>\n",
       "      <td>Mens Upper</td>\n",
       "      <td>Casual Shirt FS[M]</td>\n",
       "      <td>57766.0</td>\n",
       "      <td>PARTNER BRAND-CASUAL SHIRT FS[M]</td>\n",
       "      <td>...</td>\n",
       "      <td>None</td>\n",
       "      <td>None</td>\n",
       "      <td>None</td>\n",
       "      <td>None</td>\n",
       "      <td>699.50</td>\n",
       "      <td>1399.0</td>\n",
       "      <td>699.50</td>\n",
       "      <td>1.0</td>\n",
       "      <td>0.0</td>\n",
       "      <td>699.50</td>\n",
       "    </tr>\n",
       "    <tr>\n",
       "      <th>3</th>\n",
       "      <td>DIGITAL</td>\n",
       "      <td>TN</td>\n",
       "      <td>VELLORE</td>\n",
       "      <td>101548.0</td>\n",
       "      <td>2024-07-01</td>\n",
       "      <td>Men</td>\n",
       "      <td>Mens Upper</td>\n",
       "      <td>Casual Shirt FS[M]</td>\n",
       "      <td>57766.0</td>\n",
       "      <td>PARTNER BRAND-CASUAL SHIRT FS[M]</td>\n",
       "      <td>...</td>\n",
       "      <td>None</td>\n",
       "      <td>None</td>\n",
       "      <td>None</td>\n",
       "      <td>None</td>\n",
       "      <td>799.50</td>\n",
       "      <td>1599.0</td>\n",
       "      <td>799.50</td>\n",
       "      <td>1.0</td>\n",
       "      <td>0.0</td>\n",
       "      <td>799.50</td>\n",
       "    </tr>\n",
       "    <tr>\n",
       "      <th>4</th>\n",
       "      <td>DIGITAL</td>\n",
       "      <td>AP</td>\n",
       "      <td>TIRUPATI</td>\n",
       "      <td>101500.0</td>\n",
       "      <td>2024-07-01</td>\n",
       "      <td>Men</td>\n",
       "      <td>Mens Upper</td>\n",
       "      <td>Casual Shirt FS[M]</td>\n",
       "      <td>57766.0</td>\n",
       "      <td>PARTNER BRAND-CASUAL SHIRT FS[M]</td>\n",
       "      <td>...</td>\n",
       "      <td>None</td>\n",
       "      <td>None</td>\n",
       "      <td>None</td>\n",
       "      <td>None</td>\n",
       "      <td>1999.00</td>\n",
       "      <td>1999.0</td>\n",
       "      <td>1005.00</td>\n",
       "      <td>1.0</td>\n",
       "      <td>994.0</td>\n",
       "      <td>0.00</td>\n",
       "    </tr>\n",
       "    <tr>\n",
       "      <th>...</th>\n",
       "      <td>...</td>\n",
       "      <td>...</td>\n",
       "      <td>...</td>\n",
       "      <td>...</td>\n",
       "      <td>...</td>\n",
       "      <td>...</td>\n",
       "      <td>...</td>\n",
       "      <td>...</td>\n",
       "      <td>...</td>\n",
       "      <td>...</td>\n",
       "      <td>...</td>\n",
       "      <td>...</td>\n",
       "      <td>...</td>\n",
       "      <td>...</td>\n",
       "      <td>...</td>\n",
       "      <td>...</td>\n",
       "      <td>...</td>\n",
       "      <td>...</td>\n",
       "      <td>...</td>\n",
       "      <td>...</td>\n",
       "      <td>...</td>\n",
       "    </tr>\n",
       "    <tr>\n",
       "      <th>183618</th>\n",
       "      <td>None</td>\n",
       "      <td>NE</td>\n",
       "      <td>AGARTALA-SHAKUNTALA ROAD</td>\n",
       "      <td>101572.0</td>\n",
       "      <td>2024-05-08</td>\n",
       "      <td>Girls</td>\n",
       "      <td>Girls Junior</td>\n",
       "      <td>T-Shirt[GJ]</td>\n",
       "      <td>58248.0</td>\n",
       "      <td>VC-T-SHIRT-BLACK FAMILY[GJ]</td>\n",
       "      <td>...</td>\n",
       "      <td>FRONT</td>\n",
       "      <td>REGULAR</td>\n",
       "      <td>None</td>\n",
       "      <td>None</td>\n",
       "      <td>126.75</td>\n",
       "      <td>169.0</td>\n",
       "      <td>126.75</td>\n",
       "      <td>1.0</td>\n",
       "      <td>0.0</td>\n",
       "      <td>42.25</td>\n",
       "    </tr>\n",
       "    <tr>\n",
       "      <th>183619</th>\n",
       "      <td>None</td>\n",
       "      <td>WB1</td>\n",
       "      <td>KOLKATA-ESPLANADE</td>\n",
       "      <td>101764.0</td>\n",
       "      <td>2024-05-08</td>\n",
       "      <td>Girls</td>\n",
       "      <td>Girls Junior</td>\n",
       "      <td>T-Shirt[GJ]</td>\n",
       "      <td>58248.0</td>\n",
       "      <td>VC-T-SHIRT-BLACK FAMILY[GJ]</td>\n",
       "      <td>...</td>\n",
       "      <td>FRONT</td>\n",
       "      <td>REGULAR</td>\n",
       "      <td>None</td>\n",
       "      <td>None</td>\n",
       "      <td>0.01</td>\n",
       "      <td>169.0</td>\n",
       "      <td>0.01</td>\n",
       "      <td>1.0</td>\n",
       "      <td>0.0</td>\n",
       "      <td>168.99</td>\n",
       "    </tr>\n",
       "    <tr>\n",
       "      <th>183620</th>\n",
       "      <td>DIGITAL</td>\n",
       "      <td>UP13</td>\n",
       "      <td>LUCKNOW-ARJUNGANJ</td>\n",
       "      <td>101324.0</td>\n",
       "      <td>2024-05-08</td>\n",
       "      <td>Boys</td>\n",
       "      <td>Boys Senior</td>\n",
       "      <td>Shorts[B]</td>\n",
       "      <td>17145.0</td>\n",
       "      <td>UL_Z-ECO-[BLH01]</td>\n",
       "      <td>...</td>\n",
       "      <td>ALL OVER PRINT</td>\n",
       "      <td>ABOVE KNEE</td>\n",
       "      <td>None</td>\n",
       "      <td>None</td>\n",
       "      <td>199.00</td>\n",
       "      <td>199.0</td>\n",
       "      <td>199.00</td>\n",
       "      <td>1.0</td>\n",
       "      <td>0.0</td>\n",
       "      <td>0.00</td>\n",
       "    </tr>\n",
       "    <tr>\n",
       "      <th>183621</th>\n",
       "      <td>DIGITAL</td>\n",
       "      <td>JHK1</td>\n",
       "      <td>ADITYAPUR</td>\n",
       "      <td>101089.0</td>\n",
       "      <td>2024-05-08</td>\n",
       "      <td>Boys</td>\n",
       "      <td>Boys Senior</td>\n",
       "      <td>Shorts[B]</td>\n",
       "      <td>17145.0</td>\n",
       "      <td>UL_Z-ECO-[BLH01]</td>\n",
       "      <td>...</td>\n",
       "      <td>ALL OVER PRINT</td>\n",
       "      <td>ABOVE KNEE</td>\n",
       "      <td>None</td>\n",
       "      <td>None</td>\n",
       "      <td>199.00</td>\n",
       "      <td>199.0</td>\n",
       "      <td>199.00</td>\n",
       "      <td>1.0</td>\n",
       "      <td>0.0</td>\n",
       "      <td>0.00</td>\n",
       "    </tr>\n",
       "    <tr>\n",
       "      <th>183622</th>\n",
       "      <td>DIGITAL</td>\n",
       "      <td>UP6</td>\n",
       "      <td>FARRUKHABAD</td>\n",
       "      <td>100630.0</td>\n",
       "      <td>2024-05-08</td>\n",
       "      <td>Boys</td>\n",
       "      <td>Boys Senior</td>\n",
       "      <td>Shorts[B]</td>\n",
       "      <td>17145.0</td>\n",
       "      <td>UL_Z-ECO-[BLH01]</td>\n",
       "      <td>...</td>\n",
       "      <td>ALL OVER PRINT</td>\n",
       "      <td>ABOVE KNEE</td>\n",
       "      <td>None</td>\n",
       "      <td>None</td>\n",
       "      <td>-199.00</td>\n",
       "      <td>-199.0</td>\n",
       "      <td>-199.00</td>\n",
       "      <td>-1.0</td>\n",
       "      <td>0.0</td>\n",
       "      <td>0.00</td>\n",
       "    </tr>\n",
       "  </tbody>\n",
       "</table>\n",
       "<p>4504184 rows × 33 columns</p>\n",
       "</div>"
      ],
      "text/plain": [
       "       UDFSTRING15     OPH3                  SHRTNAME  ADM_SITE_CODE  \\\n",
       "0             None  BIHAR 1        PATNA-GRAVITY MALL       102633.0   \n",
       "1          DIGITAL       TN     KRISHNAGIRI-BANGALORE       101694.0   \n",
       "2          DIGITAL  BIHAR 1           PATNA-GOLA ROAD       102483.0   \n",
       "3          DIGITAL       TN                   VELLORE       101548.0   \n",
       "4          DIGITAL       AP                  TIRUPATI       101500.0   \n",
       "...            ...      ...                       ...            ...   \n",
       "183618        None       NE  AGARTALA-SHAKUNTALA ROAD       101572.0   \n",
       "183619        None      WB1         KOLKATA-ESPLANADE       101764.0   \n",
       "183620     DIGITAL     UP13         LUCKNOW-ARJUNGANJ       101324.0   \n",
       "183621     DIGITAL     JHK1                 ADITYAPUR       101089.0   \n",
       "183622     DIGITAL      UP6               FARRUKHABAD       100630.0   \n",
       "\n",
       "          BILLDATE    LEV1GRPNAME    LEV2GRPNAME             GRPNAME  \\\n",
       "0       2024-07-01          Girls   Girls Senior       T-Shirt FS[G]   \n",
       "1       2024-07-01  Women Western  Western Lower          Trouser[L]   \n",
       "2       2024-07-01            Men     Mens Upper  Casual Shirt FS[M]   \n",
       "3       2024-07-01            Men     Mens Upper  Casual Shirt FS[M]   \n",
       "4       2024-07-01            Men     Mens Upper  Casual Shirt FS[M]   \n",
       "...            ...            ...            ...                 ...   \n",
       "183618  2024-05-08          Girls   Girls Junior         T-Shirt[GJ]   \n",
       "183619  2024-05-08          Girls   Girls Junior         T-Shirt[GJ]   \n",
       "183620  2024-05-08           Boys    Boys Senior           Shorts[B]   \n",
       "183621  2024-05-08           Boys    Boys Senior           Shorts[B]   \n",
       "183622  2024-05-08           Boys    Boys Senior           Shorts[B]   \n",
       "\n",
       "        ARTICLECODE                       ARTICLENAME  ...     UDFSTRING07  \\\n",
       "0           53637.0                     ECO-[GTSFS01]  ...           FRONT   \n",
       "1           18109.0                  POPULAR-[LLTS03]  ...            None   \n",
       "2           57766.0  PARTNER BRAND-CASUAL SHIRT FS[M]  ...            None   \n",
       "3           57766.0  PARTNER BRAND-CASUAL SHIRT FS[M]  ...            None   \n",
       "4           57766.0  PARTNER BRAND-CASUAL SHIRT FS[M]  ...            None   \n",
       "...             ...                               ...  ...             ...   \n",
       "183618      58248.0       VC-T-SHIRT-BLACK FAMILY[GJ]  ...           FRONT   \n",
       "183619      58248.0       VC-T-SHIRT-BLACK FAMILY[GJ]  ...           FRONT   \n",
       "183620      17145.0                  UL_Z-ECO-[BLH01]  ...  ALL OVER PRINT   \n",
       "183621      17145.0                  UL_Z-ECO-[BLH01]  ...  ALL OVER PRINT   \n",
       "183622      17145.0                  UL_Z-ECO-[BLH01]  ...  ALL OVER PRINT   \n",
       "\n",
       "       UDFSTRING08     UDFSTRING09 UDFSTRING10 GROSSAMT  MRPAMT   NETAMT  QTY  \\\n",
       "0          REGULAR            None        None   149.25   199.0   149.25  1.0   \n",
       "1          REGULAR  WITHOUT POCKET        None   649.00   649.0   649.00  1.0   \n",
       "2             None            None        None   699.50  1399.0   699.50  1.0   \n",
       "3             None            None        None   799.50  1599.0   799.50  1.0   \n",
       "4             None            None        None  1999.00  1999.0  1005.00  1.0   \n",
       "...            ...             ...         ...      ...     ...      ...  ...   \n",
       "183618     REGULAR            None        None   126.75   169.0   126.75  1.0   \n",
       "183619     REGULAR            None        None     0.01   169.0     0.01  1.0   \n",
       "183620  ABOVE KNEE            None        None   199.00   199.0   199.00  1.0   \n",
       "183621  ABOVE KNEE            None        None   199.00   199.0   199.00  1.0   \n",
       "183622  ABOVE KNEE            None        None  -199.00  -199.0  -199.00 -1.0   \n",
       "\n",
       "       DISCOUNTAMT PROMOAMT  \n",
       "0              0.0    49.75  \n",
       "1              0.0     0.00  \n",
       "2              0.0   699.50  \n",
       "3              0.0   799.50  \n",
       "4            994.0     0.00  \n",
       "...            ...      ...  \n",
       "183618         0.0    42.25  \n",
       "183619         0.0   168.99  \n",
       "183620         0.0     0.00  \n",
       "183621         0.0     0.00  \n",
       "183622         0.0     0.00  \n",
       "\n",
       "[4504184 rows x 33 columns]"
      ]
     },
     "execution_count": 5,
     "metadata": {},
     "output_type": "execute_result"
    }
   ],
   "source": [
    "df1= pd.DataFrame()\n",
    "\n",
    "for f in onlyfiles[:24]:\n",
    "    df = pd.concat([df, pd.read_parquet(f)])\n",
    "df"
   ]
  },
  {
   "cell_type": "code",
   "execution_count": 7,
   "id": "e69cd129",
   "metadata": {},
   "outputs": [
    {
     "data": {
      "text/html": [
       "<div>\n",
       "<style scoped>\n",
       "    .dataframe tbody tr th:only-of-type {\n",
       "        vertical-align: middle;\n",
       "    }\n",
       "\n",
       "    .dataframe tbody tr th {\n",
       "        vertical-align: top;\n",
       "    }\n",
       "\n",
       "    .dataframe thead th {\n",
       "        text-align: right;\n",
       "    }\n",
       "</style>\n",
       "<table border=\"1\" class=\"dataframe\">\n",
       "  <thead>\n",
       "    <tr style=\"text-align: right;\">\n",
       "      <th></th>\n",
       "      <th>ADM_SITE_CODE</th>\n",
       "      <th>ARTICLECODE</th>\n",
       "      <th>GROSSAMT</th>\n",
       "      <th>MRPAMT</th>\n",
       "      <th>NETAMT</th>\n",
       "      <th>QTY</th>\n",
       "      <th>DISCOUNTAMT</th>\n",
       "      <th>PROMOAMT</th>\n",
       "    </tr>\n",
       "  </thead>\n",
       "  <tbody>\n",
       "    <tr>\n",
       "      <th>count</th>\n",
       "      <td>4.504184e+06</td>\n",
       "      <td>4.504184e+06</td>\n",
       "      <td>4.504184e+06</td>\n",
       "      <td>4.504184e+06</td>\n",
       "      <td>4.504184e+06</td>\n",
       "      <td>4.504184e+06</td>\n",
       "      <td>4.504184e+06</td>\n",
       "      <td>4.504184e+06</td>\n",
       "    </tr>\n",
       "    <tr>\n",
       "      <th>mean</th>\n",
       "      <td>8.374535e+04</td>\n",
       "      <td>3.696435e+04</td>\n",
       "      <td>3.183098e+02</td>\n",
       "      <td>3.740364e+02</td>\n",
       "      <td>3.166974e+02</td>\n",
       "      <td>9.563053e-01</td>\n",
       "      <td>1.612408e+00</td>\n",
       "      <td>5.572651e+01</td>\n",
       "    </tr>\n",
       "    <tr>\n",
       "      <th>std</th>\n",
       "      <td>3.844716e+04</td>\n",
       "      <td>2.158567e+04</td>\n",
       "      <td>2.947299e+02</td>\n",
       "      <td>3.413811e+02</td>\n",
       "      <td>2.920819e+02</td>\n",
       "      <td>3.403948e-01</td>\n",
       "      <td>2.437724e+01</td>\n",
       "      <td>1.776363e+02</td>\n",
       "    </tr>\n",
       "    <tr>\n",
       "      <th>min</th>\n",
       "      <td>1.000000e+00</td>\n",
       "      <td>1.900000e+01</td>\n",
       "      <td>-6.999500e+03</td>\n",
       "      <td>-1.399900e+04</td>\n",
       "      <td>-6.999500e+03</td>\n",
       "      <td>-6.000000e+00</td>\n",
       "      <td>-1.923340e+03</td>\n",
       "      <td>-6.999500e+03</td>\n",
       "    </tr>\n",
       "    <tr>\n",
       "      <th>25%</th>\n",
       "      <td>1.005230e+05</td>\n",
       "      <td>1.714200e+04</td>\n",
       "      <td>1.690000e+02</td>\n",
       "      <td>1.990000e+02</td>\n",
       "      <td>1.690000e+02</td>\n",
       "      <td>1.000000e+00</td>\n",
       "      <td>0.000000e+00</td>\n",
       "      <td>0.000000e+00</td>\n",
       "    </tr>\n",
       "    <tr>\n",
       "      <th>50%</th>\n",
       "      <td>1.012650e+05</td>\n",
       "      <td>4.175100e+04</td>\n",
       "      <td>2.490000e+02</td>\n",
       "      <td>2.990000e+02</td>\n",
       "      <td>2.490000e+02</td>\n",
       "      <td>1.000000e+00</td>\n",
       "      <td>0.000000e+00</td>\n",
       "      <td>0.000000e+00</td>\n",
       "    </tr>\n",
       "    <tr>\n",
       "      <th>75%</th>\n",
       "      <td>1.016000e+05</td>\n",
       "      <td>5.747500e+04</td>\n",
       "      <td>4.250000e+02</td>\n",
       "      <td>4.990000e+02</td>\n",
       "      <td>4.000000e+02</td>\n",
       "      <td>1.000000e+00</td>\n",
       "      <td>0.000000e+00</td>\n",
       "      <td>0.000000e+00</td>\n",
       "    </tr>\n",
       "    <tr>\n",
       "      <th>max</th>\n",
       "      <td>1.027330e+05</td>\n",
       "      <td>6.653700e+04</td>\n",
       "      <td>1.120000e+04</td>\n",
       "      <td>1.600000e+04</td>\n",
       "      <td>1.120000e+04</td>\n",
       "      <td>1.200000e+01</td>\n",
       "      <td>2.383680e+03</td>\n",
       "      <td>7.999500e+03</td>\n",
       "    </tr>\n",
       "  </tbody>\n",
       "</table>\n",
       "</div>"
      ],
      "text/plain": [
       "       ADM_SITE_CODE   ARTICLECODE      GROSSAMT        MRPAMT        NETAMT  \\\n",
       "count   4.504184e+06  4.504184e+06  4.504184e+06  4.504184e+06  4.504184e+06   \n",
       "mean    8.374535e+04  3.696435e+04  3.183098e+02  3.740364e+02  3.166974e+02   \n",
       "std     3.844716e+04  2.158567e+04  2.947299e+02  3.413811e+02  2.920819e+02   \n",
       "min     1.000000e+00  1.900000e+01 -6.999500e+03 -1.399900e+04 -6.999500e+03   \n",
       "25%     1.005230e+05  1.714200e+04  1.690000e+02  1.990000e+02  1.690000e+02   \n",
       "50%     1.012650e+05  4.175100e+04  2.490000e+02  2.990000e+02  2.490000e+02   \n",
       "75%     1.016000e+05  5.747500e+04  4.250000e+02  4.990000e+02  4.000000e+02   \n",
       "max     1.027330e+05  6.653700e+04  1.120000e+04  1.600000e+04  1.120000e+04   \n",
       "\n",
       "                QTY   DISCOUNTAMT      PROMOAMT  \n",
       "count  4.504184e+06  4.504184e+06  4.504184e+06  \n",
       "mean   9.563053e-01  1.612408e+00  5.572651e+01  \n",
       "std    3.403948e-01  2.437724e+01  1.776363e+02  \n",
       "min   -6.000000e+00 -1.923340e+03 -6.999500e+03  \n",
       "25%    1.000000e+00  0.000000e+00  0.000000e+00  \n",
       "50%    1.000000e+00  0.000000e+00  0.000000e+00  \n",
       "75%    1.000000e+00  0.000000e+00  0.000000e+00  \n",
       "max    1.200000e+01  2.383680e+03  7.999500e+03  "
      ]
     },
     "execution_count": 7,
     "metadata": {},
     "output_type": "execute_result"
    }
   ],
   "source": [
    "df.describe()"
   ]
  },
  {
   "cell_type": "code",
   "execution_count": 10,
   "id": "54c5d48b",
   "metadata": {
    "scrolled": true
   },
   "outputs": [
    {
     "name": "stdout",
     "output_type": "stream",
     "text": [
      "<class 'pandas.core.frame.DataFrame'>\n",
      "Int64Index: 4504184 entries, 0 to 183622\n",
      "Data columns (total 33 columns):\n",
      " #   Column         Dtype  \n",
      "---  ------         -----  \n",
      " 0   UDFSTRING15    object \n",
      " 1   OPH3           object \n",
      " 2   SHRTNAME       object \n",
      " 3   ADM_SITE_CODE  float64\n",
      " 4   BILLDATE       object \n",
      " 5   LEV1GRPNAME    object \n",
      " 6   LEV2GRPNAME    object \n",
      " 7   GRPNAME        object \n",
      " 8   ARTICLECODE    float64\n",
      " 9   ARTICLENAME    object \n",
      " 10  ICODE          object \n",
      " 11  DESC5          object \n",
      " 12  DESC3          object \n",
      " 13  DESC2          object \n",
      " 14  CNAME2         object \n",
      " 15  CNAME3         object \n",
      " 16  CNAME6         object \n",
      " 17  UDFSTRING01    object \n",
      " 18  UDFSTRING02    object \n",
      " 19  UDFSTRING03    object \n",
      " 20  UDFSTRING04    object \n",
      " 21  UDFSTRING05    object \n",
      " 22  UDFSTRING06    object \n",
      " 23  UDFSTRING07    object \n",
      " 24  UDFSTRING08    object \n",
      " 25  UDFSTRING09    object \n",
      " 26  UDFSTRING10    object \n",
      " 27  GROSSAMT       float64\n",
      " 28  MRPAMT         float64\n",
      " 29  NETAMT         float64\n",
      " 30  QTY            float64\n",
      " 31  DISCOUNTAMT    float64\n",
      " 32  PROMOAMT       float64\n",
      "dtypes: float64(8), object(25)\n",
      "memory usage: 1.1+ GB\n"
     ]
    }
   ],
   "source": [
    "df.info()"
   ]
  },
  {
   "cell_type": "code",
   "execution_count": 13,
   "id": "026f23f6",
   "metadata": {},
   "outputs": [
    {
     "data": {
      "text/plain": [
       "[None, 'DIGITAL', 'North', 'South', 'Bihar/JH']"
      ]
     },
     "execution_count": 13,
     "metadata": {},
     "output_type": "execute_result"
    }
   ],
   "source": [
    "list(df[\"UDFSTRING15\"].unique())"
   ]
  },
  {
   "cell_type": "code",
   "execution_count": 23,
   "id": "6ad2e87e",
   "metadata": {
    "scrolled": true
   },
   "outputs": [
    {
     "data": {
      "text/plain": [
       "array(['BIHAR 1', 'TN', 'AP', 'ODISHA', 'BIHAR 3', 'KAR', 'JHK1', 'UK',\n",
       "       'DELHI NCR', 'UP13', 'WB1', 'UP5', 'UP2', 'UP7', 'UP12', 'GUJRAT',\n",
       "       'UP4', 'UP3', 'UP11', 'UP6', 'BIHAR 2', 'UP10', 'TS', 'UP9', 'NE',\n",
       "       'UP8', 'JHK2', 'J and K', 'RAJASTHAN-1', 'MP2', 'BIHAR 4',\n",
       "       'WAREHOUSE', 'RAJASTHAN-2', 'PUN and HP', 'MP1', 'WEST', 'WB2',\n",
       "       'KER', None], dtype=object)"
      ]
     },
     "execution_count": 23,
     "metadata": {},
     "output_type": "execute_result"
    }
   ],
   "source": [
    "df[\"OPH3\"].unique()"
   ]
  },
  {
   "cell_type": "code",
   "execution_count": 19,
   "id": "513f75a6",
   "metadata": {},
   "outputs": [
    {
     "data": {
      "text/plain": [
       "array([], dtype=object)"
      ]
     },
     "execution_count": 19,
     "metadata": {},
     "output_type": "execute_result"
    }
   ],
   "source": [
    "df[df[\"UDFSTRING15\"] == \"None\"][\"OPH3\"].unique()"
   ]
  },
  {
   "cell_type": "code",
   "execution_count": 15,
   "id": "f86f8b70",
   "metadata": {},
   "outputs": [
    {
     "data": {
      "text/plain": [
       "array(['TN', 'BIHAR 1', 'AP', 'ODISHA', 'BIHAR 3', 'KAR', 'JHK1', 'UK',\n",
       "       'DELHI NCR', 'UP13', 'UP5', 'UP2', 'UP7', 'UP12', 'UP4', 'UP3',\n",
       "       'UP11', 'UP6', 'BIHAR 2', 'UP10', 'TS', 'UP9', 'NE', 'UP8', 'JHK2',\n",
       "       'J and K', 'RAJASTHAN-1', 'BIHAR 4', 'WB1', 'RAJASTHAN-2',\n",
       "       'PUN and HP', 'MP1', 'WEST', 'KER', 'WB2', 'GUJRAT', 'MP2'],\n",
       "      dtype=object)"
      ]
     },
     "execution_count": 15,
     "metadata": {},
     "output_type": "execute_result"
    }
   ],
   "source": [
    "df[df[\"UDFSTRING15\"] == \"DIGITAL\"][\"OPH3\"].unique()"
   ]
  },
  {
   "cell_type": "code",
   "execution_count": 20,
   "id": "b8b470ed",
   "metadata": {},
   "outputs": [
    {
     "data": {
      "text/plain": [
       "array(['GUJRAT', 'MP2', 'MP1', 'UP7', 'WAREHOUSE'], dtype=object)"
      ]
     },
     "execution_count": 20,
     "metadata": {},
     "output_type": "execute_result"
    }
   ],
   "source": [
    "df[df[\"UDFSTRING15\"] == \"North\"][\"OPH3\"].unique()"
   ]
  },
  {
   "cell_type": "code",
   "execution_count": 21,
   "id": "0fad4412",
   "metadata": {},
   "outputs": [
    {
     "data": {
      "text/plain": [
       "array(['GUJRAT'], dtype=object)"
      ]
     },
     "execution_count": 21,
     "metadata": {},
     "output_type": "execute_result"
    }
   ],
   "source": [
    "df[df[\"UDFSTRING15\"] == \"South\"][\"OPH3\"].unique()"
   ]
  },
  {
   "cell_type": "code",
   "execution_count": 22,
   "id": "77eda0e7",
   "metadata": {},
   "outputs": [
    {
     "data": {
      "text/plain": [
       "array(['BIHAR 4'], dtype=object)"
      ]
     },
     "execution_count": 22,
     "metadata": {},
     "output_type": "execute_result"
    }
   ],
   "source": [
    "df[df[\"UDFSTRING15\"] == \"Bihar/JH\"][\"OPH3\"].unique()"
   ]
  },
  {
   "cell_type": "code",
   "execution_count": 24,
   "id": "1d35e7f2",
   "metadata": {},
   "outputs": [
    {
     "data": {
      "text/plain": [
       "array(['PATNA-GRAVITY MALL', 'KRISHNAGIRI-BANGALORE', 'PATNA-GOLA ROAD',\n",
       "       'VELLORE', 'TIRUPATI', 'BARIPADA', 'KHAGARIA', 'RAMAMURTHY NAGAR',\n",
       "       'PATNA CITY', 'FORBESGANJ-SADAR ROAD', 'LATEHAR',\n",
       "       'DEHRADUN-VIKAS NAGAR', 'DELHI-BURARI', 'TUMKUR', 'CHOWK',\n",
       "       'KOLKATA-ESPLANADE', 'MALDAHIYA', 'KANPUR-GUMTI', 'AGRA',\n",
       "       'CHIKMAGALUR-MG ROAD', 'ETAWAH', 'KASHIPUR', 'HAMIRPUR', 'MATHURA',\n",
       "       'LAWGARDEN', 'DEORIA', 'RENUKOOT', 'JANGAREDDYGUDEM', 'DEHRADUN',\n",
       "       'BHAGESHWAR NAGAR', 'PREM NAGAR-BAREILLY', 'SHAHAJAHANPUR',\n",
       "       'MAU-GHOSI', 'KHALILABAD', 'RANCHI', 'KAKINADA', 'KEONJHAR',\n",
       "       'DHARMAPURI', 'NABARANGPUR', 'BEGUSARAI', 'RAJENDER NAGAR',\n",
       "       'KADAPA', 'NEYVELI', 'VELLORE-1_MM', 'RAIBARELI', 'BAHRAICH',\n",
       "       'BIJAPUR', 'TANJAVORE_MM', 'KHAMMAM', 'SANGAREDDY',\n",
       "       'SAHAKARA NAGAR', 'VIZAG', 'GHAZIPUR-KASHIMABAD',\n",
       "       'BHADOHI-STATION ROAD', 'BHUBANESWAR-PATIA', 'SHEOHAR',\n",
       "       'PATNA-KURJI', 'LAKHIMPUR-MELA ROAD', 'GURUGRAM-BADSHAHPUR',\n",
       "       'AKBARPUR', 'KARUR', 'KALAPAHAR-GUWAHATI', 'NAGERCOIL',\n",
       "       'BIRSA CHOWK-RANCHI', 'KANPUR', 'MADEENAGUDA', 'BHAGALPUR',\n",
       "       'FAIZABAD-NAKA', 'LUCKNOW', 'HALDWANI', 'AS RAO NAGAR',\n",
       "       'RAJAJIPURAM', 'VALASARAWAKKAM_BIG MM', 'NELLORE', 'THORAIPAKKAM',\n",
       "       'URBAN BANK ROAD', 'AGARTALA-SHAKUNTALA ROAD',\n",
       "       'RANCHI-STATION ROAD', 'FAIZABAD', 'TRICHY2',\n",
       "       'BHAGALPUR-KACHEHARI ROAD', 'PILIBHIT', 'THAKURGANJ',\n",
       "       'KARWI-CHITRAKOOT', 'KISHANGANJ', 'DELHI-DWARKA', 'PURNIA',\n",
       "       'CHAAS', 'MUZAFFARNAGAR', 'SRINAGAR', 'JOWAI',\n",
       "       'JAIPUR-BARKAT NAGAR', 'UJJAIN', 'BAHRAICH-CIVIL LINE',\n",
       "       'BORING ROAD-PATNA', 'PHARENDA-STATION ROAD', 'RAJIV NAGAR',\n",
       "       'BASTI-MALVIYA ROAD', 'LALGANJ', 'JAMUI', 'MADHEPURA', 'NAGOUR',\n",
       "       'KHARUPETIA-PANBARI ROAD', 'FO-BANKI', 'CUTTACK-BADAMBADI',\n",
       "       'PADARI BAZAR', 'MADURAI', 'LUCKNOW-QAISARBAGH', 'SHANTIPUR',\n",
       "       'SITAPUR', 'LAJPATNAGAR', 'ERODE', 'NAGAON',\n",
       "       'WARRANGAL_MGM CIRCLE', 'BARAN-KOTA ROAD', 'CHANDIGARH',\n",
       "       'JAIPUR-NSR', 'WARRANGAL', 'BAREILLY-RAM VATIKA', 'SULTANPUR',\n",
       "       'GOPALGANJ', 'PRYAGRAJ-PHAPHAMAU', 'ARRAH', 'BALRAMPUR-UTRAULA',\n",
       "       'MUZAFFARPUR', 'RAJSAMAND-KANKROLI', 'AKBARPUR-TANDA ROAD',\n",
       "       'RAEBARELI-LALGANJ', 'SHAHGANJ-JAUNPUR ROAD',\n",
       "       'GORAKHPUR-MOHADDIPUR', 'HATHRAS', 'BALIA', 'JAUNPUR',\n",
       "       'BOKARO MALL', 'MUGHALSARAI', 'RAJAHMUNDRY', 'RANCHI-BARIATU ROAD',\n",
       "       'PADRAUNA', 'DARBHANGA', 'ORAI', 'TELIBAGH',\n",
       "       'CHHATARPUR-JAWAHAR ROAD', 'BIHTA', 'BERASIA', 'TAMLUK-MANIKTALA',\n",
       "       'AMBALA', 'NAWADA', 'VIKAS NAGAR', 'BANDA',\n",
       "       'KRISHNANAGAR-WEST BENGAL', 'VAISHALI-LALGANJ', 'REWA',\n",
       "       'SAKET NAGAR', 'PHUSRO', 'DEHRADUN-RAJPUR ROAD', 'LUCKNOW-BKT',\n",
       "       'TENALI', 'LUCKNOW-ARJUNGANJ', 'TONK-JAIPUR ROAD',\n",
       "       'BELONIA-HALL CHOWMUHANI', 'GAZIPUR', 'GORAKHPUR-MEDICAL COLLEGE',\n",
       "       'HARDOI-LUCKNOW ROAD', 'KACHI CHAWNI', 'LUCKNOW-KHURRAM NAGAR',\n",
       "       'CHHAPRA-BHAGWAN BAZAR', 'MORVI', 'FATUHA', 'JABALPUR-DAMOHNAKA',\n",
       "       'DAUD NAGAR', 'KHUNTI-SUBHASH CHOWK', 'CHROMPET_BIG MM', 'MAU',\n",
       "       'GUNA-BUS STAND ROAD', 'HARIDWAR', 'CUTTACK', 'DEEPKAMAL_MALL',\n",
       "       'RAJPURA-AGRA', 'UNNAO-SHAHGANJ BAZAAR', 'HUSSAINGANJ', 'ATTAPUR',\n",
       "       'ARAMBAGH', 'COIMBATORE-SULUR', 'DHEKIAJULI-TEZPUR ROAD',\n",
       "       'COIMBATORE-THUDIYALUR', 'DEHRADUN-HARIDWAR ROAD',\n",
       "       'TINSUKIA-STATION ROAD', 'AJMER', 'RISHIKESH-HARIDWAR ROAD',\n",
       "       'BARHI-DHANBAD ROAD', 'SAHARANPUR-DELHI ROAD', 'KOTA-RANGBARI',\n",
       "       'SHIVPURI', 'PROZONE COIMBATORE', 'PARKLANE', 'KUMAR PACIFIC',\n",
       "       'GT MALL', 'MADHUBANI-JHAJHARPUR', 'NAZIBABAD-HARIDWAR ROAD',\n",
       "       'GIRIDIH', 'KOLKATA-BARASAT', 'ALIGARH', 'LAL BANGLA-KANPUR',\n",
       "       'LUCKNOW-DURGAPURI', 'BONGAON-JESSORE ROAD',\n",
       "       'SIVASAGAR-BOARDING ROAD', 'PALWAL-AGRA CHOWK', 'NASHIK',\n",
       "       'ASCENDUS', 'NARSHIPATNAM', 'SHAHGANJ', 'AIRPORT ROAD-LUCKNOW',\n",
       "       'CHHAPRA', 'GUMLA', 'JAMNAGAR-SAMNA ROAD', 'JHANSI-SHIVPURI ROAD',\n",
       "       'SALEM', 'BHANGEL', 'HABSIGUDA', 'NALBARI', 'GODDA-RAUTARA CHOWK',\n",
       "       'SAHARANPUR', 'BHOPAL', 'INDORE-SAPNA SANGEETA', 'VADAKARA',\n",
       "       'FUN REPUBLIC CBE', 'ETAH-GT ROAD', 'SIDDHARTHNAGAR-HIDIL CHAU',\n",
       "       'GAURIGANJ', 'GORAKHPUR-MANGLAM-2', 'MOGAPPAIR',\n",
       "       'JODHPUR-PALI ROAD', 'HYDERABAD-NAGARAM', 'LUXA',\n",
       "       'GHAZIABAD-GANDHI NAGAR', 'MADHUBANI-STATION ROAD',\n",
       "       'KONNAGAR-IG ROAD', 'CHINHAT-LUCKNOW', 'HANUMANGARH-STATION ROAD',\n",
       "       'KHARAGPUR', 'HAZARIBAGH-PUGMIL ROAD', 'WAIDHAN-VIDHYANAGAR ROAD',\n",
       "       'AGRA-VIP ROAD', 'DEHRI ON SONE', 'JAMALPUR', 'DEOGHAR',\n",
       "       'CHURCH ROAD', 'KONDOTTY', 'PONDICHERY', 'KATHUA', 'SASARAM',\n",
       "       'KOTWALI', 'LAKHIMPUR', 'CHITTORGARH-UDAIPUR ROAD', 'DUMKA',\n",
       "       'AZAMGARH', 'KASGANJ-THANDI SADAK', 'TIRUNELVELI',\n",
       "       'SATNA-STATION ROAD', 'JORHAT', 'CHIKKADAPALLY', 'THRISSUR',\n",
       "       'JAIPUR-MURLIPURA', 'VAISHNAVI SAPPHIRE', 'DELHI-NARELA',\n",
       "       'PERAMBALUR', 'ADITYAPUR', 'LUCKNOW-DUBAGGA', 'BALLIA-NEW TOWN',\n",
       "       'DINDIGAL', 'PATNA-ANISHABAD', 'JALANDHAR', 'PALKI-LUCKNOW',\n",
       "       'LUCKNOW-BUDHESHWAR', 'RAMPUR', 'GANDHIDHAM', 'GONDA-STATION ROAD',\n",
       "       'SIWAN', 'BHOPAL-BAIRAGARH', 'KANPUR-KALYANPUR',\n",
       "       'DHARMANAGAR-STATION ROAD', 'JEHANABAD-STATION ROAD', 'MANCHERIAL',\n",
       "       'BANDEL', 'KOTA', 'LOHARDAGA', 'AMROHA', 'BHOJUBEER',\n",
       "       'KATIHAR-MIRCHAIBARI', 'MOTIHARI', 'DHANBAD-BINODBIHARI CHOWK',\n",
       "       'PARTAP GARH', 'JAIPUR-PRATAP NAGAR', 'DALANWALA-DEHRADUN',\n",
       "       'HOSUR', 'BANGALORE-KANGERI', 'CANARA MALL', 'RANCHI-RATU ROAD',\n",
       "       'JODHPUR-AKHALIYA CIRCLE', 'JAMSHEDPUR-SAKCHI AMBAGAN',\n",
       "       'SHUKLAGANJ', 'ANGUL-SHANKAR CINEMA ROAD', 'KANPUR-P ROAD',\n",
       "       'PRATAPGARH-GHANTAGHAR', 'TRICHY', 'COIMBATORE- 2',\n",
       "       'KANPUR-YASHODA NAGAR', 'RAMGARH', 'JAIPUR-JHOTWARA',\n",
       "       'GORAKHPUR-TARAMANDAL', 'BHABUA', 'JHARSUGUDA', 'AURANGABAD',\n",
       "       'THALASSERY', 'BHILWARA-RAJENDRA MARG', 'ITANAGAR', 'KOLATHUR',\n",
       "       'LUCKNOW-SAROJINI NAGAR', 'JAIPUR-CHITRAKOOT', 'BARABANKI',\n",
       "       'UDAIPUR-HIRAN MANGRI', 'JAMNAGAR', 'HIRAPUR', 'UDAIPUR-FATEHPURA',\n",
       "       'SAWAIMADHOPUR', 'KANPUR-BARRA', 'HAJIPUR', 'SITAMARHI',\n",
       "       'MORENA-M S ROAD', 'ROORKEE RAMNAGAR', 'BANKA', 'SAMASTIPUR',\n",
       "       'PATNA-BAKHTIYARPUR', 'NAUBASTA-KANPUR', 'DHANBAD-SARAIDHELLA',\n",
       "       'ALLAHABAD', 'BADAUN', 'DHULIYAN', 'MALL OF MYSORE', 'KOTA-KUNADI',\n",
       "       'PATNA-PHULWARI SHARIF', 'BELLARY', 'FARRUKHABAD',\n",
       "       'VIDYARANYAPURA', 'SHAHJAHANPUR-KACHCHAKATRA', 'KANKARBAGH-PATNA',\n",
       "       'KANNAUJ', 'LUCKNOW-RAJAJIPURAM 2', 'SAGUNA MOR-PATNA',\n",
       "       'KATIHAR-NEW MARKET', 'WANAPARTHY', 'GARHWA', 'BHOPAL-KAROND',\n",
       "       'SARATH CITY MALL', 'ZIRAKPUR-BUS STAND', 'PUDUKKOTTAI',\n",
       "       'VARANASI-SHIVALA', 'RAMBAGH CHOWK', 'JAIPUR-MANSAROVAR', 'JAMMU',\n",
       "       'LUCKNOW-TEDHIPULIA', 'VERAVAL-STATION ROAD', 'GONDA', 'UDAIPUR',\n",
       "       'SIDDIPET', 'HARIDWAR-SHIVALIK NAGAR', 'GORAKHPUR-BARHALGANJ',\n",
       "       'JAMMU-KUNJWANI', 'KOTDWAR-DEVI ROAD', 'BURDWAN-NAZRUL PALLY',\n",
       "       'MUNGER', 'BAREILLY', 'FATHEPUR', 'PAHARIA', 'BURDWAN',\n",
       "       'BASAVESHWARNAGAR', 'MURADABAD', 'MADHUBANI',\n",
       "       'AURAIYA-KANPUR ROAD', 'AMETHI-DURGAPUR ROAD', 'COOCH BEHAR',\n",
       "       'JAMMU-JANIPUR', 'UDAIPUR-SURAJPOLE', 'PATNA-KANTIFACTORY',\n",
       "       'DALTONGANJ-REDMA CHOWK', 'SAMBALPUR', 'CHANDAUSI-BAHJOI ROAD',\n",
       "       'RATLAM-STATION ROAD', 'UDHAMPUR', 'SANGANER-JAIPUR',\n",
       "       'VIDISHA-STATION ROAD', 'FARIDABAD-NIT', 'NAIHATI-RC MALL',\n",
       "       'DAVANAGERE MALL', 'BISALPUR-EIDGAH CHAURAHA', 'SUALKUCHI',\n",
       "       'ROBERTSGANJ', 'JAIPUR-SUBHASH CHOWK', 'MAHARAJGANJ',\n",
       "       'PRAYAGRAJ-NOORULLAH ROAD', 'SINHAGUD', 'DAPODI_BIG MM',\n",
       "       'NANDYALA', 'KAHALGOAN', 'MEERUT', 'GORAKHPUR', 'LAXMINAGAR',\n",
       "       'BETTIAH', 'LUCKNOW-KHADRA', 'HUSAINABAD-JAUNPUR',\n",
       "       'MUZAFFARPUR-ICON MALL', 'PATNA-SAMPATH CHOWK',\n",
       "       'BARPETA TOWN-HOWLY ROAD', 'BISWANATH CHARIALI', 'DHUBRI-GTB ROAD',\n",
       "       'SIDHAULI', 'VADODARA-CHHANI ROAD', 'AGARTALA-NAGARJALA', 'JHANSI',\n",
       "       'SAHARSA', 'AGRA-SIKANDRA', 'SUPAUL', 'GURDASPUR',\n",
       "       'DARBHANGA-DONAR', 'JUNAGARH', 'MAJRA-DEHRADUN', 'RAIGANJ-MG ROAD',\n",
       "       'JALPAIGURI', 'FO-UNNAO', 'JAMMU-TALAB TILLO', 'FO-JAGATSINGHPUR',\n",
       "       'SANDILA-MOHALL ASHAF TOLA', 'FO-NAGINA', 'FIROZABAD', 'SANGLI',\n",
       "       'ARRAH-PAKRI CHOWK', 'VADODARA-NAZARBAUGH', 'MIRZAPUR-TELIAGANJ',\n",
       "       'BASTI', 'PATHANKOT', 'MURSHIDABAD', 'AMTALA',\n",
       "       'PALAMPUR-CITY MALL', 'RANGIA-BHUTAN BUS STAND', 'GWALIOR-LASHKAR',\n",
       "       'DURGAKUND', 'RUDRAPUR', 'JAIPUR-SIRSI ROAD',\n",
       "       'PITHAMPUR-NEEMUCH ROAD', 'PURANPUR-KOTWALI ROAD', 'FO-TIJARA',\n",
       "       'FO-SARSAWA', 'FO-DEEG', 'FO-CHAKSU', 'FO-MELAGHAR-TRIPURA',\n",
       "       'FO-SANTIRBAZAR', 'FO-TILHAR', 'FO-TAPUKARA',\n",
       "       'FO-NAJIBABAD-MUSKAN CPX', 'FO-MALL BLOCK', 'FO-KAPASHERA',\n",
       "       'FO-BISHALGARH', 'FO-KUNDERKI', 'FO-JASPUR', 'FO-NONGPOH',\n",
       "       'FO-FARIDABAD', 'FO-BILASPUR', 'FO-MALIHABAD', 'FO-JAGATPUR',\n",
       "       'FO-CHHATA', 'FO-TAORU', 'FO-UIDAIPUR GOMATI TRIPUR',\n",
       "       'FO-SHIKOHABAD', 'FO-BAWAL', 'FO-SALUMBER', 'FO-NIALI',\n",
       "       'FO-BILSANDA', 'FO-SAFIPUR', 'FO-POWAYAN', 'FO-NAWABGANJ',\n",
       "       'FO-AURANGABAD-MATHURA', 'FO-MAWAPKHAW', 'FO-AMROHA',\n",
       "       'FO-IGLAS-ALIGARH', 'FO-KUMARGHAT', 'FO-GAJOL', 'FO-NIWAI',\n",
       "       'FO-BILARI', 'FO-RAGHUNATHGANJ', 'FO-MOHALLA PAHADI DARWAZA',\n",
       "       'FO-MAU', 'FO-RAJASUNAKHALA', 'FO-BEGUNIA', 'FO-RAGHUNATHPUR',\n",
       "       'FO-BLR', 'FO-MACHLI SHAHAR', 'FO-LALGANJ-PRATAPGARH',\n",
       "       'FO-KESARGANJ', 'FO-BANGARMAU', 'FO-MOHANLALGANJ', 'FO-PURWA',\n",
       "       'MEHSANA', 'MALKAJGIRI', 'FO-PINDRA-BANARAS', 'FO-JARWAL',\n",
       "       'FO-PATAUDI', 'FO-BISHRAMGANJ', 'BELGAUM', 'PORBANDAR',\n",
       "       'FO-MIRZAPUR', 'FO-PIPLI', 'FO-NAYAGARH', 'FO-WH EXHIBITION',\n",
       "       'FO-SWAIMADHOPUR', 'FO-JARKA', 'FO-PAGA'], dtype=object)"
      ]
     },
     "execution_count": 24,
     "metadata": {},
     "output_type": "execute_result"
    }
   ],
   "source": [
    "df[\"SHRTNAME\"].unique()"
   ]
  },
  {
   "cell_type": "code",
   "execution_count": 25,
   "id": "544b6ac7",
   "metadata": {
    "scrolled": true
   },
   "outputs": [
    {
     "data": {
      "text/plain": [
       "array([1.02633e+05, 1.01694e+05, 1.02483e+05, 1.01548e+05, 1.01500e+05,\n",
       "       1.01012e+05, 1.01058e+05, 1.01509e+05, 1.00586e+05, 1.01767e+05,\n",
       "       1.01045e+05, 1.01698e+05, 1.01664e+05, 1.01521e+05, 7.60000e+01,\n",
       "       1.01764e+05, 1.01378e+05, 1.02515e+05, 1.00743e+05, 1.02485e+05,\n",
       "       1.00997e+05, 1.00523e+05, 1.01141e+05, 8.20000e+01, 1.00000e+00,\n",
       "       6.10000e+01, 4.90000e+01, 1.01833e+05, 1.00053e+05, 1.00052e+05,\n",
       "       1.01143e+05, 4.70000e+01, 1.01477e+05, 1.01007e+05, 1.00766e+05,\n",
       "       1.01504e+05, 1.01002e+05, 1.02600e+05, 1.01035e+05, 5.20000e+01,\n",
       "       8.40000e+01, 1.01506e+05, 1.02430e+05, 1.01541e+05, 1.00207e+05,\n",
       "       5.50000e+01, 1.01518e+05, 1.01543e+05, 1.01570e+05, 1.02719e+05,\n",
       "       1.01510e+05, 1.01498e+05, 1.01814e+05, 1.01818e+05, 1.01821e+05,\n",
       "       1.01091e+05, 1.01281e+05, 1.01819e+05, 1.01671e+05, 8.30000e+01,\n",
       "       1.01738e+05, 1.01176e+05, 1.01542e+05, 1.01043e+05, 3.80000e+01,\n",
       "       1.01561e+05, 6.20000e+01, 1.01482e+05, 2.90000e+01, 1.00109e+05,\n",
       "       1.01558e+05, 1.01070e+05, 1.01537e+05, 1.01505e+05, 1.01552e+05,\n",
       "       1.01030e+05, 1.01572e+05, 1.01846e+05, 6.30000e+01, 1.01549e+05,\n",
       "       1.02501e+05, 1.01008e+05, 1.01065e+05, 1.01452e+05, 1.00811e+05,\n",
       "       1.01478e+05, 1.00112e+05, 1.00110e+05, 2.80000e+01, 5.60000e+01,\n",
       "       1.01189e+05, 1.01338e+05, 4.50000e+01, 1.01669e+05, 1.00172e+05,\n",
       "       1.01868e+05, 1.00364e+05, 1.01377e+05, 1.01060e+05, 1.01014e+05,\n",
       "       1.01057e+05, 7.80000e+01, 1.01252e+05, 1.01838e+05, 1.02584e+05,\n",
       "       1.00998e+05, 1.01545e+05, 1.01130e+05, 1.01183e+05, 7.00000e+01,\n",
       "       5.00000e+00, 1.01699e+05, 1.01170e+05, 1.01569e+05, 1.01656e+05,\n",
       "       1.10000e+01, 1.01453e+05, 1.01568e+05, 1.02548e+05, 4.80000e+01,\n",
       "       1.00504e+05, 1.01577e+05, 4.60000e+01, 1.01704e+05, 1.00206e+05,\n",
       "       1.01845e+05, 1.01681e+05, 1.01627e+05, 1.01600e+05, 1.01820e+05,\n",
       "       1.00645e+05, 1.00090e+05, 6.00000e+01, 1.02579e+05, 1.01146e+05,\n",
       "       1.01501e+05, 1.01680e+05, 1.01026e+05, 7.10000e+01, 1.01027e+05,\n",
       "       1.01122e+05, 1.01739e+05, 1.01831e+05, 6.60000e+01, 1.01231e+05,\n",
       "       4.10000e+01, 1.01003e+05, 6.90000e+01, 1.00503e+05, 1.01182e+05,\n",
       "       1.01447e+05, 1.01061e+05, 1.00049e+05, 1.01046e+05, 1.02525e+05,\n",
       "       1.01267e+05, 1.01703e+05, 1.01324e+05, 1.02495e+05, 1.02620e+05,\n",
       "       5.80000e+01, 1.01263e+05, 1.01125e+05, 1.01151e+05, 1.01268e+05,\n",
       "       1.01454e+05, 1.00055e+05, 1.01670e+05, 1.01315e+05, 1.01009e+05,\n",
       "       1.01715e+05, 1.01538e+05, 8.60000e+01, 1.02531e+05, 1.00173e+05,\n",
       "       1.01034e+05, 1.01508e+05, 1.01235e+05, 1.01327e+05, 1.00822e+05,\n",
       "       1.01559e+05, 1.01181e+05, 1.02551e+05, 1.01806e+05, 1.01811e+05,\n",
       "       1.01757e+05, 1.01873e+05, 1.50000e+01, 1.01576e+05, 1.01474e+05,\n",
       "       1.01212e+05, 1.01284e+05, 1.00171e+05, 1.01555e+05, 1.01565e+05,\n",
       "       1.01532e+05, 1.01528e+05, 1.01374e+05, 1.01758e+05, 1.00140e+05,\n",
       "       1.01318e+05, 5.90000e+01, 1.01228e+05, 1.02688e+05, 1.02484e+05,\n",
       "       1.01771e+05, 1.01654e+05, 1.01535e+05, 1.01524e+05, 1.01716e+05,\n",
       "       1.01032e+05, 1.01175e+05, 7.50000e+01, 1.01090e+05, 1.02625e+05,\n",
       "       1.02637e+05, 1.01546e+05, 1.01053e+05, 1.01562e+05, 1.01171e+05,\n",
       "       1.01462e+05, 4.30000e+01, 9.00000e+00, 1.01342e+05, 1.02509e+05,\n",
       "       1.01556e+05, 1.01878e+05, 1.02641e+05, 1.01133e+05, 1.01772e+05,\n",
       "       1.01540e+05, 1.02547e+05, 1.01843e+05, 6.70000e+01, 1.01743e+05,\n",
       "       1.02609e+05, 1.02394e+05, 1.01161e+05, 1.01744e+05, 1.01039e+05,\n",
       "       1.02562e+05, 1.01695e+05, 1.01296e+05, 1.01446e+05, 1.01041e+05,\n",
       "       1.00366e+05, 7.40000e+01, 1.02508e+05, 1.01571e+05, 1.01059e+05,\n",
       "       1.00113e+05, 1.00801e+05, 8.70000e+01, 1.01476e+05, 1.00205e+05,\n",
       "       4.20000e+01, 1.02449e+05, 1.01547e+05, 1.01666e+05, 1.01184e+05,\n",
       "       1.01563e+05, 1.01530e+05, 1.01696e+05, 1.01513e+05, 1.01305e+05,\n",
       "       1.01702e+05, 1.01089e+05, 1.01199e+05, 1.01449e+05, 1.01550e+05,\n",
       "       1.01661e+05, 1.20000e+01, 1.01158e+05, 1.01295e+05, 1.01063e+05,\n",
       "       3.40000e+01, 1.01612e+05, 1.00208e+05, 1.01345e+05, 1.01317e+05,\n",
       "       1.01665e+05, 1.01211e+05, 1.01701e+05, 1.01177e+05, 3.30000e+01,\n",
       "       1.01165e+05, 1.01056e+05, 1.01066e+05, 1.01472e+05, 6.50000e+01,\n",
       "       1.01667e+05, 5.30000e+01, 1.01348e+05, 1.01159e+05, 1.01536e+05,\n",
       "       1.02619e+05, 1.01515e+05, 1.01349e+05, 1.02526e+05, 1.01145e+05,\n",
       "       1.01140e+05, 1.02459e+05, 1.01341e+05, 1.01732e+05, 1.01544e+05,\n",
       "       1.01554e+05, 1.01480e+05, 1.01071e+05, 1.01280e+05, 1.01807e+05,\n",
       "       1.01068e+05, 1.01023e+05, 1.00054e+05, 1.01870e+05, 1.02507e+05,\n",
       "       1.01187e+05, 1.01551e+05, 1.02471e+05, 1.01347e+05, 7.90000e+01,\n",
       "       1.01575e+05, 7.20000e+01, 1.00745e+05, 1.01765e+05, 1.01766e+05,\n",
       "       1.01468e+05, 1.01013e+05, 1.01011e+05, 1.01874e+05, 1.01759e+05,\n",
       "       1.01092e+05, 8.10000e+01, 1.01470e+05, 1.01195e+05, 1.01306e+05,\n",
       "       1.00365e+05, 1.00051e+05, 1.01040e+05, 1.01511e+05, 1.01298e+05,\n",
       "       1.02684e+05, 1.01514e+05, 1.00630e+05, 1.01516e+05, 1.01847e+05,\n",
       "       1.01230e+05, 1.01129e+05, 1.01329e+05, 1.01178e+05, 1.01328e+05,\n",
       "       1.01828e+05, 1.01142e+05, 1.01241e+05, 1.01567e+05, 1.01286e+05,\n",
       "       1.01859e+05, 1.01461e+05, 1.01180e+05, 1.01674e+05, 1.01147e+05,\n",
       "       1.01808e+05, 1.02624e+05, 3.20000e+01, 3.10000e+01, 1.01849e+05,\n",
       "       1.01652e+05, 1.01697e+05, 1.01243e+05, 1.01830e+05, 1.01637e+05,\n",
       "       1.01006e+05, 1.00677e+05, 1.00111e+05, 8.50000e+01, 1.01005e+05,\n",
       "       1.01522e+05, 4.00000e+01, 1.00719e+05, 1.01580e+05, 1.01586e+05,\n",
       "       1.01010e+05, 1.01316e+05, 1.01337e+05, 1.01344e+05, 1.01259e+05,\n",
       "       1.01024e+05, 1.01346e+05, 1.01815e+05, 1.01028e+05, 1.01206e+05,\n",
       "       1.02555e+05, 1.01587e+05, 1.02552e+05, 1.01523e+05, 1.01233e+05,\n",
       "       1.01736e+05, 1.02419e+05, 1.01353e+05, 1.01134e+05, 1.01445e+05,\n",
       "       1.01533e+05, 1.01531e+05, 1.02702e+05, 1.01227e+05, 3.50000e+01,\n",
       "       2.70000e+01, 2.20000e+01, 8.00000e+01, 1.01431e+05, 1.01069e+05,\n",
       "       1.02732e+05, 1.01481e+05, 1.01733e+05, 1.01194e+05, 1.01242e+05,\n",
       "       1.01121e+05, 1.02538e+05, 1.02708e+05, 1.00050e+05, 8.80000e+01,\n",
       "       1.01265e+05, 1.01179e+05, 2.10000e+01, 1.01574e+05, 1.01869e+05,\n",
       "       1.01162e+05, 1.01269e+05, 1.01033e+05, 1.01608e+05, 1.01299e+05,\n",
       "       1.02673e+05, 1.01333e+05, 1.02452e+05, 1.00744e+05, 1.01534e+05,\n",
       "       1.02733e+05, 1.02690e+05, 1.01475e+05, 5.40000e+01, 1.30000e+01,\n",
       "       1.01186e+05, 1.01877e+05, 1.01238e+05, 1.01813e+05, 1.01253e+05,\n",
       "       1.01036e+05, 1.00815e+05, 1.01371e+05, 1.02393e+05, 1.01655e+05,\n",
       "       1.02421e+05, 1.02604e+05, 1.02615e+05, 1.01688e+05, 1.01742e+05,\n",
       "       1.02415e+05, 1.02694e+05, 1.02432e+05, 1.02616e+05, 1.01687e+05,\n",
       "       1.00381e+05, 1.02505e+05, 1.02460e+05, 1.02635e+05, 1.02431e+05,\n",
       "       1.02436e+05, 1.00235e+05, 1.02522e+05, 1.02563e+05, 1.02560e+05,\n",
       "       1.01067e+05, 1.02414e+05, 1.02603e+05, 1.02413e+05, 1.01827e+05,\n",
       "       1.02451e+05, 1.02717e+05, 1.01657e+05, 1.02671e+05, 1.01825e+05,\n",
       "       1.02666e+05, 1.01875e+05, 1.01826e+05, 1.02670e+05, 1.02461e+05,\n",
       "       1.02653e+05, 1.01775e+05, 1.02667e+05, 1.02654e+05, 1.02574e+05,\n",
       "       1.01770e+05, 1.02564e+05, 1.02540e+05, 1.01839e+05, 1.02490e+05,\n",
       "       1.01836e+05, 1.01713e+05, 1.02475e+05, 1.02672e+05, 1.01837e+05,\n",
       "       1.02668e+05, 3.60000e+01, 1.01560e+05, 1.01712e+05, 1.02474e+05,\n",
       "       1.01335e+05, 1.02506e+05, 1.01529e+05, 1.02642e+05, 1.01719e+05,\n",
       "       1.02575e+05, 1.01848e+05, 1.01746e+05, 1.02721e+05, 1.02674e+05,\n",
       "       1.02700e+05])"
      ]
     },
     "execution_count": 25,
     "metadata": {},
     "output_type": "execute_result"
    }
   ],
   "source": [
    "df[\"ADM_SITE_CODE\"].unique()"
   ]
  },
  {
   "cell_type": "code",
   "execution_count": 26,
   "id": "ac47deb8",
   "metadata": {},
   "outputs": [
    {
     "data": {
      "text/plain": [
       "516"
      ]
     },
     "execution_count": 26,
     "metadata": {},
     "output_type": "execute_result"
    }
   ],
   "source": [
    "len(df[\"ADM_SITE_CODE\"].unique())"
   ]
  },
  {
   "cell_type": "code",
   "execution_count": 27,
   "id": "451a067e",
   "metadata": {},
   "outputs": [
    {
     "data": {
      "text/plain": [
       "516"
      ]
     },
     "execution_count": 27,
     "metadata": {},
     "output_type": "execute_result"
    }
   ],
   "source": [
    "len(df[\"SHRTNAME\"].unique())"
   ]
  },
  {
   "cell_type": "code",
   "execution_count": 28,
   "id": "e69b512d",
   "metadata": {},
   "outputs": [
    {
     "data": {
      "text/plain": [
       "array([datetime.date(2024, 7, 1), datetime.date(2024, 6, 1),\n",
       "       datetime.date(2024, 5, 1), datetime.date(2024, 7, 2),\n",
       "       datetime.date(2024, 6, 2), datetime.date(2024, 5, 2),\n",
       "       datetime.date(2024, 7, 3), datetime.date(2024, 6, 3),\n",
       "       datetime.date(2024, 5, 3), datetime.date(2024, 7, 4),\n",
       "       datetime.date(2024, 6, 4), datetime.date(2024, 5, 4),\n",
       "       datetime.date(2024, 7, 5), datetime.date(2024, 6, 5),\n",
       "       datetime.date(2024, 5, 5), datetime.date(2024, 7, 6),\n",
       "       datetime.date(2024, 6, 6), datetime.date(2024, 5, 6),\n",
       "       datetime.date(2024, 7, 7), datetime.date(2024, 6, 7),\n",
       "       datetime.date(2024, 5, 7), datetime.date(2024, 7, 8),\n",
       "       datetime.date(2024, 6, 8), datetime.date(2024, 5, 8)], dtype=object)"
      ]
     },
     "execution_count": 28,
     "metadata": {},
     "output_type": "execute_result"
    }
   ],
   "source": [
    "df[\"BILLDATE\"].unique()"
   ]
  },
  {
   "cell_type": "code",
   "execution_count": 29,
   "id": "fe1a76ad",
   "metadata": {},
   "outputs": [
    {
     "data": {
      "text/plain": [
       "array(['Girls', 'Women Western', 'Men', 'Infant', 'Boys', 'Women Ethnic'],\n",
       "      dtype=object)"
      ]
     },
     "execution_count": 29,
     "metadata": {},
     "output_type": "execute_result"
    }
   ],
   "source": [
    "df[\"LEV1GRPNAME\"].unique()"
   ]
  },
  {
   "cell_type": "code",
   "execution_count": 30,
   "id": "0f0f7683",
   "metadata": {},
   "outputs": [
    {
     "data": {
      "text/plain": [
       "array(['Girls Senior', 'Western Lower', 'Mens Upper', 'Infant U-Garments',\n",
       "       'Infant Girls Clothing', 'Western Upper', 'Boys Senior',\n",
       "       'Mens Lower', 'Infant Bathing Needs', 'Ethnic Upper',\n",
       "       'Infant Boys Clothing', 'Boys Junior', 'Western W-Wear',\n",
       "       'Women Sleepwear', 'Infant Sleeping Needs', 'Mens Sports Wear',\n",
       "       'Mens Ethnic', 'Boys Toddler', 'Infant Baby', 'Ethnic One PC',\n",
       "       'Saree', 'Girls Junior', 'Infant Feeding Needs', 'Mens W-Wear',\n",
       "       'Western One PC', 'Ethnic Lower', 'Ethnic Suit Sets',\n",
       "       'Girls Toddler', 'Ethnic W-Wear', 'Infant Winter Wear-Girls',\n",
       "       'Infant Winter Accessories', 'Infant Accessories',\n",
       "       'Infant Winter Wear-Boys', 'Infant Baba', 'Western Sets'],\n",
       "      dtype=object)"
      ]
     },
     "execution_count": 30,
     "metadata": {},
     "output_type": "execute_result"
    }
   ],
   "source": [
    "df[\"LEV2GRPNAME\"].unique()"
   ]
  },
  {
   "cell_type": "code",
   "execution_count": 31,
   "id": "4c9c7e43",
   "metadata": {
    "scrolled": true
   },
   "outputs": [
    {
     "data": {
      "text/plain": [
       "array(['T-Shirt FS[G]', 'Trouser[L]', 'Casual Shirt FS[M]', 'Bloomer(I)',\n",
       "       'POLO-T-SHIRT[M]', 'Coordinated Set FS[IG]', 'Formal Shirt[L]',\n",
       "       'Shirt [BS]', 'T-Shirt FS[BS]', 'Formal Trouser[L]', 'Jeans[M]',\n",
       "       'Formal Trouser[M]', 'Formal Shirt FS[M]', 'T-Shirt[L]',\n",
       "       'TEES-T-SHIRT[M]', 'Shorts[B]', 'Towel(I)', 'Casual Trouser[M]',\n",
       "       'T-Shirt FS[M]', 'Kurta[L]', 'Coordinated Sets FS[IB]',\n",
       "       'Shirt[BJ]', 'Sweatshirt[L]', 'Track Pants[L]', 'Jeans[BS]',\n",
       "       'Skirt[GS]', 'Shorts[GS]', 'Bermuda[B]', 'Casual Shirt[M]',\n",
       "       'Dupatta[L]', 'Night Suit[L]', 'Sheet[I]', 'Track Pant[M]',\n",
       "       'Nehru Jacket[M]', 'T-Shirt FS[BT]', 'Frock FS[I]',\n",
       "       'Shirt FS [BS]', 'Top FS[G]', 'Ethnic Dress[L]', 'Shirt FS[BJ]',\n",
       "       'Cargo n Joggers[L]', 'Cotton Saree[L]', 'T-Shirt FS [BJ]',\n",
       "       'Party Wear Shirt[M]', 'T-shirt[IB]', 'Top FS[L]', 'Blouse[L]',\n",
       "       'Nighty[L]', 'Jeans[BJ]', 'T-Shirt[GJ]', 'Jeans[L]', 'Sipper(I)',\n",
       "       'T-Shirt FS[L]', 'Jeans B1G1[M]', 'Sweatshirt-[M]', 'Top[L]',\n",
       "       'T-Shirt[BS]', 'Pyjama[IB]', 'Coordinated Set[G]', 'Dress[L]',\n",
       "       'Pyjama[GS]', 'Pant[L]', 'Cargo n Joggers[M]', 'Dress[G]',\n",
       "       'Coordinated Sets[IB]', 'Suit[B]', 'Dress Fabric B1G1[L]',\n",
       "       'T-Shirt [BJ]', 'Casual Set FS[GJ]', 'Baba Suit FS[BJ]',\n",
       "       'Baba Suit FS[BT]', 'Salwar Suit[L]', 'Shirt[L]', 'Top[GS]',\n",
       "       'Trouser [BS]', 'W-Coordinated Set[G]', 'Shorts[L]',\n",
       "       'Coordinated Set[IG]', 'Kurti[L]', 'Shorts[IB]', 'Sherwani[B]',\n",
       "       'Top Dyed Saree[L]', 'Pant[GJ]', 'Jeans[GJ]', 'Shorts[M]',\n",
       "       'Jegging[L]', 'Frock[GJ]', 'Top[GJ]', 'Party Wear[IG]',\n",
       "       'Synthetic Saree[L]', 'Kurta Set [M]', 'Casual Set[GT]',\n",
       "       'Capris(GS)', 'W-PALAZZO[L]', 'Capri [L]', 'Trouser[BJ]',\n",
       "       'Harem[G]', 'Night Suit[G]', 'Tant Saree[L]', 'Shirt FS [IB]',\n",
       "       'T-shirts FS[IB]', 'Party Wear[G]', 'Shorts[GJ]', 'Legging[L]',\n",
       "       'Knit Churidaar[L]', 'Pyjama[BJ]', 'Pyjama[L]', 'Petikot',\n",
       "       'Frock FS[G]', 'Jeans[BT]', 'Skirt[GJ]', 'Saree B1G1[L]',\n",
       "       'Sweatshirt[IG]', 'Night Suit FS[G]', 'W-Pyjama [M]', 'Shirt[IB]',\n",
       "       'T-Shirt[GS]', 'Synthetic Print[L]', 'Baba Suit[BT]', 'Suit[IB]',\n",
       "       'W-Pyjama[L]', 'W-Stole[L]', 'Frock[IG]', 'Capri[B]',\n",
       "       'W-Warmer [I]', 'Jegging[G]', 'Legging[GJ]', 'Legging[GS]',\n",
       "       'T-Shirt FS[IG]', 'Fusion Ghagroo[L]', 'Pyjama[BS]', 'Pyjama[GJ]',\n",
       "       'Jeans[IB]', 'Socks[I]', 'W-Pyjama[IG]', 'Fusion Top',\n",
       "       'Lehanga Chunni[L]', 'Pant[GS]', 'Fusion Palazzo[L]',\n",
       "       'Casual Set FS[GT]', 'Sweater [M]', 'Jeans[GS]', 'Kurta[M]',\n",
       "       'W-Pyjama[IB]', 'Sleepwear Pyjama[WW]', 'Light Jacket[M]',\n",
       "       'W-Booty(IB)', 'Suit2Pc[M]', 'Dress Fabric-Cotton[L]', 'Capri[GJ]',\n",
       "       'Casual Blazer [M]', 'Cargo n Joggers[BJ]', 'Cargo n Joggers[BS]',\n",
       "       'Sando[M]', '3/4ths', 'Light Jacket[L]', 'Sando[B]',\n",
       "       'Casual Set[GJ]', 'Baba Suit[BJ]', 'Net(I)', 'Langot(I)',\n",
       "       'Sleepwear Capri[WW]', 'Booty(I)', 'Pillow(I)', 'Cap(I)',\n",
       "       'W-Vest [I]', 'Bib(I)', 'Kurta Pyjama [BJ]', 'Gift Set[I]',\n",
       "       'Cargo n Joggers[G]', 'Vest[I]', 'Coordinated Sets[BJ]',\n",
       "       'Coordinated Sets[BS]', 'Kurta Pyjama[BS]', 'Coordinate Set-W [L]',\n",
       "       'Blazer [B]', 'Coordinate Set-E [L]', 'W-Socks [I]',\n",
       "       'W-Legging[L]', 'Hijab[L]', 'W-Kurti [L]', 'W-Pyjama[B]',\n",
       "       'Skirt [L]', 'Shrug[L]', 'Bottle[I]', 'Bag(I)', 'Skirts[IG]',\n",
       "       'Ethnic Pyjama', 'Handloom Saree', 'Formal Shirt[M]',\n",
       "       'Sweatshirt[GS]', 'Sweatshirt[IB]', 'Nehru Jacket [BS]',\n",
       "       'Sweater[GT]', 'Lehanga Saree[L]', 'Gown[L]', 'Sweatshirt[BJ]',\n",
       "       'Sherwani[M]', 'Apron(I)', 'Blankets [I]', 'Bottle Cover[I]',\n",
       "       'Salwar[L]', 'Formal Blazer [M]', 'Sweatshirt[BS]', 'Sweater [L]',\n",
       "       'Deffodil Suit [IB]', 'W-Cap [I]', 'W-Coordinated Set[IB]',\n",
       "       'Sweater[GJ]', 'W-Legging [G]', 'Ramper[I]', 'W-Pyjama [G]',\n",
       "       'Kaftan[L]', 'Night Suit [BS]', 'Sleeping Bag [I]', 'Shawl [L]',\n",
       "       'Jackets[IB]', 'Sweater[IB]', 'W-Co-ordinate set [IG]',\n",
       "       'Baby Carrying Belt[I]', 'Coordinated Set [L]',\n",
       "       'Coordinate Set [L]', 'W-Baba Suit[BT]', 'Panty(I)',\n",
       "       'W-Gloves [I]', 'Casual Jackets [M]', 'Jacket[GS]', 'Jacket[GJ]',\n",
       "       'Heavy Jacket[M]', 'Sweater[BS]', 'Jacket[BJ]', 'Suit3Pc[M]',\n",
       "       'Sweater[BT]', 'Sweater[BJ]', 'Jacket[BS]', 'Sweatshirt[BT]',\n",
       "       'Sweatshirt[GT]', 'Sweatshirt[GJ]', 'Polly Fil Suit [IB]',\n",
       "       'Track Suit[M]', 'W-Dress Fabric [L]', 'Night Suit FS[B]',\n",
       "       'Sweater[GS]', 'Jacket[GT]', 'W-Hipster Set [G]', 'Sweater[IG]',\n",
       "       'W-Baba Suit [BJ]', 'Night Suit[BJ]', 'Cardigan [L]',\n",
       "       'Bermuda Set[B]', 'Heavy Jacket[L]', 'Gift Set FS[I]',\n",
       "       'Jacket[BT]'], dtype=object)"
      ]
     },
     "execution_count": 31,
     "metadata": {},
     "output_type": "execute_result"
    }
   ],
   "source": [
    "df[\"GRPNAME\"].unique()"
   ]
  },
  {
   "cell_type": "code",
   "execution_count": 32,
   "id": "050e2899",
   "metadata": {},
   "outputs": [
    {
     "data": {
      "text/plain": [
       "array([53637., 18109., 57766., ..., 57760., 37670., 46023.])"
      ]
     },
     "execution_count": 32,
     "metadata": {},
     "output_type": "execute_result"
    }
   ],
   "source": [
    "df[\"ARTICLECODE\"].unique()"
   ]
  },
  {
   "cell_type": "code",
   "execution_count": 33,
   "id": "c6a43593",
   "metadata": {},
   "outputs": [
    {
     "data": {
      "text/plain": [
       "1173"
      ]
     },
     "execution_count": 33,
     "metadata": {},
     "output_type": "execute_result"
    }
   ],
   "source": [
    "len(df[\"ARTICLECODE\"].unique())"
   ]
  },
  {
   "cell_type": "code",
   "execution_count": 34,
   "id": "06544946",
   "metadata": {},
   "outputs": [
    {
     "data": {
      "text/plain": [
       "array(['ECO-[GTSFS01]', 'POPULAR-[LLTS03]',\n",
       "       'PARTNER BRAND-CASUAL SHIRT FS[M]', ..., 'PARTNER BRAND-Capri[GJ]',\n",
       "       'Z_REGULAR-[LLKC02]', 'Z_PROMO T-SHIRT-[ITSHP07]'], dtype=object)"
      ]
     },
     "execution_count": 34,
     "metadata": {},
     "output_type": "execute_result"
    }
   ],
   "source": [
    "df[\"ARTICLENAME\"].unique()"
   ]
  },
  {
   "cell_type": "code",
   "execution_count": 35,
   "id": "7040d408",
   "metadata": {},
   "outputs": [
    {
     "data": {
      "text/plain": [
       "1175"
      ]
     },
     "execution_count": 35,
     "metadata": {},
     "output_type": "execute_result"
    }
   ],
   "source": [
    "len(df[\"ARTICLENAME\"].unique())"
   ]
  },
  {
   "cell_type": "code",
   "execution_count": 36,
   "id": "dbb69d33",
   "metadata": {},
   "outputs": [
    {
     "data": {
      "text/plain": [
       "array(['VM1851611', 'VM1852422', 'VM1852224', ..., 'VM1848420',\n",
       "       'VM1848837', 'VM1849254'], dtype=object)"
      ]
     },
     "execution_count": 36,
     "metadata": {},
     "output_type": "execute_result"
    }
   ],
   "source": [
    "df[\"ICODE\"].unique()"
   ]
  },
  {
   "cell_type": "code",
   "execution_count": 37,
   "id": "31a6731c",
   "metadata": {
    "scrolled": true
   },
   "outputs": [
    {
     "data": {
      "text/plain": [
       "267368"
      ]
     },
     "execution_count": 37,
     "metadata": {},
     "output_type": "execute_result"
    }
   ],
   "source": [
    "len(df[\"ICODE\"].unique())"
   ]
  },
  {
   "cell_type": "code",
   "execution_count": 38,
   "id": "a3bfb458",
   "metadata": {
    "scrolled": true
   },
   "outputs": [
    {
     "data": {
      "text/plain": [
       "(4504184, 33)"
      ]
     },
     "execution_count": 38,
     "metadata": {},
     "output_type": "execute_result"
    }
   ],
   "source": [
    "df.shape"
   ]
  },
  {
   "cell_type": "code",
   "execution_count": 39,
   "id": "bf8da853",
   "metadata": {},
   "outputs": [
    {
     "data": {
      "text/plain": [
       "array(['639037-14392', '639229-400', '1326055-14506', ..., '638047-14506',\n",
       "       '637435-14392', '638005-15371'], dtype=object)"
      ]
     },
     "execution_count": 39,
     "metadata": {},
     "output_type": "execute_result"
    }
   ],
   "source": [
    "df[\"DESC5\"].unique()"
   ]
  },
  {
   "cell_type": "code",
   "execution_count": 40,
   "id": "ef7a0877",
   "metadata": {},
   "outputs": [
    {
     "data": {
      "text/plain": [
       "97327"
      ]
     },
     "execution_count": 40,
     "metadata": {},
     "output_type": "execute_result"
    }
   ],
   "source": [
    "len(df[\"DESC5\"].unique())"
   ]
  },
  {
   "cell_type": "code",
   "execution_count": 41,
   "id": "32904fa9",
   "metadata": {
    "scrolled": true
   },
   "outputs": [
    {
     "data": {
      "text/plain": [
       "array(['COTTON SINGLE JERSEY', 'SATIN', 'COTTON', 'TERRY', 'SLUB',\n",
       "       'POLY COTTON', 'DENIM', 'SINGLE JERSEY', 'RAYON', 'TWILL',\n",
       "       'PC WAFFLE KNIT', 'NR ROMA', 'COTTON KNITTED DENIM',\n",
       "       'POLY COTTON PIQUE', 'POLY VISCOSE', 'COTTON SLUB', 'FANCY FABRIC',\n",
       "       'TUSSAR', 'POLYESTER', 'COTTON INTERLOCK', 'POLYESTER SPANDEX',\n",
       "       'POLY COTTON INTERLOCK', 'PC KNITTED DENIM', 'COTTON DENIM',\n",
       "       'POPLIN', 'CORDUROY', 'RECYCLED POLY COTTON SINGLE JERSEY ', 'PVC',\n",
       "       'LOOP KNIT', 'GEORGETTE', 'VISCOSE PST', 'RAYON MOSS', 'CHANDERI',\n",
       "       'IMPORTED WOVEN', 'IMPORTED', 'VISCOSE', 'COTTON LYCRA', 'DOBBY',\n",
       "       'TWILL LYCRA', 'PC DOBBY DENIM', '3/1 COTTON LYCRA', 'PLASTIC',\n",
       "       'POLYESTER COTTON FLEECE', 'LINEN', 'KNITTED', 'POLY CHANDERI',\n",
       "       'POLY COTTON SINGLE JERSEY', 'LACE', 'TERRY RAYON', 'COTTON PIQUE',\n",
       "       'POLY RIB', 'INDIGO', 'KNIT-KNIT', 'CEY POLY CRUSHED',\n",
       "       '4 WAY STRETCH', 'CHIFFON', 'VELVET', 'COTTON LYCRA SINGLE JERSEY',\n",
       "       'POLY SILK', 'SILK', 'DOBBY COTTON', 'PC DENIM', 'KNIT-DENIM',\n",
       "       'COTTON LYCRA RIB', 'NET', 'JACQUARD', 'RAYON DOBBY',\n",
       "       'POLY COTTON LYCRA', 'COTTON LINEN', 'KNITTED COTTON',\n",
       "       'PC WAFFLE KNIT FABRIC', 'OXFORD', 'COTTON LOOP KNIT', 'PC DOBBY',\n",
       "       'CAMBRIC', 'COTTON POLYESTER KNITTED DENIM', 'SPUN FLEECE',\n",
       "       'POLAR FLEECE', 'TENCEL', 'DUPION', 'COTTON POLYESTER DOBBY DENIM',\n",
       "       'DROP NEEDLE', 'COTTON POLYESTER DENIM', 'FLEECE', 'ORGANZA', None,\n",
       "       'COTTON POLY PIQUE', 'SILKY DENIM', 'VISCOSE LYCRA',\n",
       "       '3/1 TWILL COTTON DENIM', 'POLYESTER JACQUARD',\n",
       "       'SWISS DOT GEORGETTE', 'COTTON FLEX', '2/1  TWILL SATIN DENIM',\n",
       "       'PC LYCRA', 'RAYON SLUB', 'DAFFODIL', 'MODAL', 'VN TOKO WOVEN',\n",
       "       'POLYESTER KNITTED VELLORE', 'VISCOSE CRINKLE WOVEN', 'BUTTER NS',\n",
       "       'NA', 'LYCRA', 'COTTON SPANDEX', 'COTTON POLYESTER SATIN DENIM',\n",
       "       'PST', 'COTTON DOBBY', 'YARN DYED STRIPER', 'KNITTED POLYESTER',\n",
       "       'SCHIFFLI', 'COTTON ', 'BONDING', 'RAYON FLEX', 'TWEED', 'SOLID',\n",
       "       'COTTON SATIN DENIM', 'POLY COTTON RIB', 'SEER SUCKER', 'CARGO',\n",
       "       'CHINON', 'COTTON RIB', 'COTTON BLEND', 'FILAFIL', 'FLEX',\n",
       "       'SYNTHETIC', 'KNIT-WOVEN', 'CHIFFON LUREX', 'BROWN', 'CHAMBRAY',\n",
       "       'POPLIN LYCRA', 'RIB', 'COTTON LUREX', 'SOUTH COTTON', 'DERBY',\n",
       "       'POLYESTER KNITTED SHERPA', 'COTTON LYCRA INTERLOCK',\n",
       "       'WAFFLE KNIT', 'WOVEN-DENIM', 'IMPORTED KNIT', 'WOVEN-WOVEN',\n",
       "       'POLY COTTON SLUB', 'SHANTOON', 'SATIN LYCRA', 'MICROFIBER',\n",
       "       'POLY CREPE', 'VORTEX POLY KNIT', 'HERRINGBONE',\n",
       "       'COTTON DOBBY DENIM', 'SJ X SJ', 'ALPINE', 'BLENDED COTTON',\n",
       "       'ART SILK', 'BRASSO', 'VOILE', 'NYLON', '100% COTTON', 'IMP',\n",
       "       'S/JERSEY', 'CAMBRIC 40S', 'CAMBRIC 60S', 'COTTON POLYESTER',\n",
       "       'AMSLER SLUB', 'TERRY COTTON', 'POLYESTER RICE KNIT',\n",
       "       'DENIM-DENIM', 'GIZA COTTON', 'COTTON POLYESTER KNITED DENIM',\n",
       "       'POLYESTER SINGLE JERSEY', 'KNITTED DENIM', 'MUSLIN',\n",
       "       'NYLON SPANDEX', 'ACRYLIC', 'TEXTILE-DENIM', 'DOBBY POLYESTER',\n",
       "       '40,S SINGLE JERSEY', 'WEIGHTLESS', 'POINTELLE',\n",
       "       'AUTO STRIPER SINGLE JERSEY', 'POLYESTER PIQUE', 'FLAX',\n",
       "       'SHEARING', 'CRINKLE COTTON', 'PIQUE', 'VISCOSE NYLON', 'Cotton',\n",
       "       'POLY MODAL', 'KNITTED COTTON STRETCH', 'LPT3-LT WINE19-M',\n",
       "       'LYOCELL', 'RAYON TWILL', 'NS', 'SUPER STRETCH', 'VISCOSE RAYON',\n",
       "       'COTTON LYCRA PIQUE', 'cotton', 'GAUZE', 'MELANGE', 'CHECKS',\n",
       "       'ROUND COLLOR', 'POLY LYCRA LOOP KNIT', 'SUPERNET', 'D-CAPSULE',\n",
       "       'Others', 'Rayon', 'KNIT VISCOSE', 'COTTON POLY STRETCH',\n",
       "       'MOSS CREPE', 'COTTON FLEECE', 'RECYCLED YARN', 'STAINLESS STEEL',\n",
       "       'FANCY YARNS', 'NYLON STRETCH', 'LYCRA DENIM KNITTED', 'POLYSETER',\n",
       "       'SINGLE JERSEY-LOOP KNIT', '100% COTTON TWILL CHECK',\n",
       "       '100% COTTON CHECK', 'RAYON GAUZE', 'POLY LYCRA', '4 WAY LYCRA',\n",
       "       '?POLYESTER SPANDEX', 'LOOPER LYCRA', 'LYCRA DENIM COTTON',\n",
       "       'POLY COTTON FLEECE', 'PA-GM-SHIRT', '100% MAN MADE FIBRE',\n",
       "       'LPT3-LT WINE19-S', 'WASHING', 'RAINBOW',\n",
       "       'POLY SELF TEXTURE GEORGETTE', 'RAYON LUREX WOVEN',\n",
       "       'POLY SPUN RIB 1X1 KNIT FABRIC', ' COTTON', ' RAYON',\n",
       "       'H/S W/O PKT POLO RIB', ' COTTON LYCRA', ' RAYON FLEX',\n",
       "       'COT/POL/SPDX', 'F/S SMICUT TAP@INR BUT PLKT&CLR BOTM SLM',\n",
       "       'F/S SEMI CTAWY CLR CHSL PKT&CUF- CTP FT', ' RAYON ', 'POLY LACE',\n",
       "       'RAYON DOBBY WOVEN', '3/1 TWILL COTTON POLY LYCRA', '0',\n",
       "       'COTTON LYCRA SLUB', 'POLYESTER INTERLOCK', 'PST SLUB',\n",
       "       'COTTON STRETCH', 'PC', 'CREPE', 'HIGH DENSITY COTTON LYCRA SATIN',\n",
       "       'SJ', 'COTTON LYCRA TWILL', 'POLYSTER LYCRA', 'WOVEN COTTON',\n",
       "       'KNIT- WOVEN', 'YARN DYED',\n",
       "       'F/S S CUTAWY FRNCH PLKT WT PK STCH- CTP', 'MESH', 'WOVEN VISCOSE',\n",
       "       'Polyester', 'Viscose', 'WOVEN', 'COTTON SILK', 'VISCOSE  BLEND',\n",
       "       'LPT3-LT WINE19-2X', 'LPT3-LT WINE19-L', 'LT09-LT GOLD113-M',\n",
       "       'SINGLE JERSEY POLY SPANDEX', ' YARN DYED', 'MINK',\n",
       "       'LPT3-LT WINE19-XL', 'WHITE', 'GLAZE COTTON', 'TEX', 'PV LYCRA',\n",
       "       'SJ+LYCRA', 'ITY', 'TEXTILE', 'KNIT WOVEN', 'ACRYLIC X ACRYLIC',\n",
       "       'TUSSER', 'RAYON CREPE', 'QUILT', '98% COTTON 2% ELASTANE',\n",
       "       'H/S WITH PKT POLO RIB', 'GEOGETTE/SJ', 'MATTYE',\n",
       "       'S/JERSEY X S/JERSEY', 'KNIT DENIM', 'INTERLOCK', 'SINGLE JEARSY',\n",
       "       'WEIGHT LESS', 'DENIM-WOVEN', 'Acrylic',\n",
       "       'F/S AINSLEY REV COLLAR W/F & N/I REG FIT', ' COTTON FLEX',\n",
       "       ' TERY VOILE', '1 PCS', 'CRINKLE', 'ORANGE', 'POLY',\n",
       "       'BROKEN COTTON LYCRA TWILL', 'S/JERSEY X DNM', 'STRIPER',\n",
       "       'RYON PRINT', 'SIFFON', 'SUPER NET', 'FENTAM', 'KNIT-TEXTILE',\n",
       "       'F/S SMI CUT DUBL TRIM@INR BUTN PLKT SLIM', 'COTTON, POLYESTER',\n",
       "       'COTTON 100%', 'LYCRA RIB', 'LYCRA DENIM',\n",
       "       'H/S PKT POLO SELF FOLD',\n",
       "       'F/S SEMICUTAWY CLR CHSL PKT&CUF- CNTP FT',\n",
       "       'H/ S SEMI CTAWY CLR STNDRD PLKT-CNTP FIT',\n",
       "       ' BASIC FLAT FRNT - SLIM FIT', 'TEXTILE X TEXTILE', 'IMPORTD',\n",
       "       'DENIM X HOSIERY', 'PC PLAIN SINKER ', 'COTTON TENCIL',\n",
       "       'CHANDERI POLY SILK', 'PENTIUM INTERLOCK', '220 GSM PIQUE C&S',\n",
       "       'S/JERSEY X TEX', 'TLE88%RYN11%SPX1%',\n",
       "       'H/S 2 BUTTON CUT & SEW PLACKET CONT FIT', 'SINGE JERSEY',\n",
       "       'TEL89%RYN10%SPX1%', '2 PLEAT CROSS PKT COMFORT FIT', ' CAMBRIC',\n",
       "       'FS SMICT TRM@INR BUT PKT&PIP@CLR BTM SLM', ' SCHIFFLI',\n",
       "       'F/S SEMI CUTWAY CLR BARREL CUFF SLIM FIT', '98% COTTON/2% SPDX',\n",
       "       'CHANDERI SILK', 'PARK AVENUE FORMAL CHINO-SUPER SLIM',\n",
       "       ' TERRI VOIL', 'COT/SPDX', 'UNDEFINED', 'BLOOMING',\n",
       "       'PA-GM-SHIRT-HALF SLEEVE AINSLEY COLLAR',\n",
       "       'RA-GM-TROUSER-SINGLE PLEAT CROSS POCKET',\n",
       "       'FS SHIRT WIT CUT AND SEW CLR BAND CNT FT', 'POWER NET',\n",
       "       'POLY COTTON DENIM', 'COTTON POLYESTER KNIT DENIM',\n",
       "       'RA-GM-SHIRT-HALF SLEEVE REGULAR COLLAR',\n",
       "       '70% COTTON 18% SPANDEX 2% SPANDEX', 'FUR', 'CREW NECK',\n",
       "       'PC PLAIN INTERLOCK', '98% COTTON 2% SPANDEX',\n",
       "       'F/S S.CUT WT EMB INR CLR & PLK -CONT FIT', 'SUN SILK',\n",
       "       'TERRY COTTON AOP', 'C52%:P48%', 'SINGLE JERSY', 'MERC SINKER',\n",
       "       'RENIYAL', 'Tencel', '100%COTTON', '100% POLYESTER FANCY KNIT',\n",
       "       'F/S SEMI CTWY FRNCH PLKT WITH PKT SLM FT', 'MAN MADE',\n",
       "       'INJECTED SLUB', 'SINKER', 'WOOLEN',\n",
       "       'FF TRS ASYMMETRIC FLAPS&MOB PKT-SUP SLIM',\n",
       "       'FF CROSS.PKT.DBL.BACK BONE PKT.SMART FIT', ' ZEERA DOBBY',\n",
       "       'COTTON RAYON', 'BLUE', 'CHAMBREY', 'TR',\n",
       "       'COTTON SLUB SINGLE JERSEY', 'PLAIN', 'POLY 65%/VISCOSE 35%',\n",
       "       'POLYESTER FLEECE', ' POLYSTER',\n",
       "       'POLYESTER BUTTER?FABRIC NS HD DULL', 'COTTON CAMBRIC',\n",
       "       'COTTON TWILL', 'C60%:P40%', 'JERSEY',\n",
       "       'F/S CUT AWAY COLLAR BASIC SLM FT', 'POL75%WOL23%SPX2%',\n",
       "       'SJ/DENIM', 'HIGH DENSITY COTTON SATIN', 'DUPEN', 'JUTE',\n",
       "       'F/S CUT AWAY COLLAR W/O PCKT SLIM FIT', 'POLY 55%/WOOL 45%',\n",
       "       'PA-GM-TROUSER-TWO PLEAT STRAIGHT POCKET',\n",
       "       'FF CROSS PKT DOUBLE BONE SUPER SLIM FIT',\n",
       "       'F/S SEMI CUT AWAY COLLAR WF/NI SLIM FT',\n",
       "       'F/S S.CUT COLLAR FRENCH PLKT-CONT FT', 'SPUN', 'COTTON SATIN',\n",
       "       '100% POLYSTER', 'POLYSTER', 'LAM LAM', 'cotton slub', 'BSY',\n",
       "       'LAMINATED FLEECE', 'Y/D PIQUE', '65% COTTON-35%TENCEL',\n",
       "       'FF CROSS PKT TRS WITH METAL TRIM-NEO FIT',\n",
       "       'BASIC FLAT FRNT -CONTEMPORARY FIT',\n",
       "       'SB2 BTN NOTCH CLR JACKET-SUPER SLIM FIT', 'COTTON  LYCRA',\n",
       "       'WAFFLE', 'PC SJ 160 GSM YD', 'KNITS', 'PC CORD KNIT',\n",
       "       'KNITTED 4 WAY LYCRA', '100% COTTON INDIGO', 'GRINDLE',\n",
       "       'S/JERSEY - S/JERSEY', 'POPLIN ALL OVER PRINT', 'BLACK/NAVY',\n",
       "       'OLIVE', 'TEXTILE X DENIM', 'PIQUE LYCRA', 'IMP/SJ', 'MARBLE',\n",
       "       'TRN82%/RYN16%/SPX2%', 'HAIR', 'PA-GI-SHIRT', 'LT09-LT GOLD113-S',\n",
       "       'POLY SLUB', 'BLACK', 'FEEDER STRIPER SINGLE JERSEY',\n",
       "       'F/S SMICUT TRM&TAPE@BUT PLKT&INR CLR SLM', 'CANVAS',\n",
       "       'ANAROMA-330', 'TEX TO DNM', 'DULL BY DULL', 'MALAI COTING',\n",
       "       'BRASO', 'POLY 67%/VISCOSE 33%', 'PC PLAIN SINKER',\n",
       "       'CAMBRIC 40*60', 'LYCRA CRUSH', 'H/S W/O PKT HENLEY', '1 PC',\n",
       "       'COTTON SINGLE JERSEY QUILTED', 'POLY/VISCOSE', 'SJ 2 SJ',\n",
       "       '30 S FINE', 'SYN X S/JERSEY'], dtype=object)"
      ]
     },
     "execution_count": 41,
     "metadata": {},
     "output_type": "execute_result"
    }
   ],
   "source": [
    "df[\"DESC3\"].unique()"
   ]
  },
  {
   "cell_type": "code",
   "execution_count": 42,
   "id": "4a351b1f",
   "metadata": {},
   "outputs": [
    {
     "data": {
      "text/plain": [
       "456"
      ]
     },
     "execution_count": 42,
     "metadata": {},
     "output_type": "execute_result"
    }
   ],
   "source": [
    "len(df[\"DESC3\"].unique())"
   ]
  },
  {
   "cell_type": "code",
   "execution_count": 44,
   "id": "4c1b7f58",
   "metadata": {},
   "outputs": [
    {
     "data": {
      "text/plain": [
       "array(['FE23', 'SP24', 'VCAW23', 'VCSS23', 'SU23', 'RE23', 'CO23', 'WI23',\n",
       "       'CO24', 'SS24X', 'SS24', 'CO24X', 'VCSS24', 'VCSS24X', 'SP22',\n",
       "       'FE22', 'SU22', 'FE21', 'SP23', 'WI22', 'SU24', 'AW17', 'SS18',\n",
       "       'AW18', 'SP19', 'SS19', 'SU19', 'FE19', 'WI19', 'SP20', 'SU20',\n",
       "       'CO21', 'FE20', 'WI21', 'SP21', 'FE24', 'VCSS22', 'WI20', 'AW20',\n",
       "       'SU21', 'SS21', 'SS22', 'AW21', 'VCAW24', 'WI24', 'VCAW22', 'SS20',\n",
       "       'CO20', 'AW19', 'CO19', 'CO22', 'SP23X', 'VCSS23X', 'RE22', 'SS16',\n",
       "       'SS17', 'AW10', 'CO15', 'CO16', 'CO18', 'AW16', 'CO17', 'SS13',\n",
       "       'WI10', 'AW15', 'AU20', 'FV15', 'SS15', 'WI21C', 'AW12', 'SU12',\n",
       "       'AW13', 'AW14', 'SS14'], dtype=object)"
      ]
     },
     "execution_count": 44,
     "metadata": {},
     "output_type": "execute_result"
    }
   ],
   "source": [
    "df[\"DESC2\"].unique()"
   ]
  },
  {
   "cell_type": "code",
   "execution_count": 45,
   "id": "aa95025a",
   "metadata": {},
   "outputs": [
    {
     "data": {
      "text/plain": [
       "array(['BE PRINCESS', 'TWIST', 'RICK ROGUE', ..., 'HERRY STONE',\n",
       "       '50 DAYS', 'Ruf & Tuf'], dtype=object)"
      ]
     },
     "execution_count": 45,
     "metadata": {},
     "output_type": "execute_result"
    }
   ],
   "source": [
    "df[\"CNAME2\"].unique()"
   ]
  },
  {
   "cell_type": "code",
   "execution_count": 46,
   "id": "e601bd2c",
   "metadata": {},
   "outputs": [
    {
     "data": {
      "text/plain": [
       "1347"
      ]
     },
     "execution_count": 46,
     "metadata": {},
     "output_type": "execute_result"
    }
   ],
   "source": [
    "len(df[\"CNAME2\"].unique())"
   ]
  },
  {
   "cell_type": "code",
   "execution_count": 47,
   "id": "8cd2d9b7",
   "metadata": {
    "scrolled": true
   },
   "outputs": [
    {
     "data": {
      "text/plain": [
       "array(['PRINTED', 'SELF DESIGN', 'PLAIN', 'SOLID', 'STRIPES', 'CHECKS',\n",
       "       'EMBROIDERED', 'DYED', 'WOVEN DESIGN', 'COLOURBLOCKED', 'JACQUARD',\n",
       "       'SELF', 'PRINT', 'REGULAR FIT', 'NA', 'SLIM FIT', 'WITH PKT',\n",
       "       'ROUND NECK', 'STRAIGHT', 'SYNTHETIC', 'DENIM', 'GIRLS SLIP',\n",
       "       'ANGEL BLOOMER', None, 'REGULAR', 'SILK', 'check', 'COTTON',\n",
       "       'TEXTURED', 'Striped', 'Patterned weave', 'COTTON EMB.',\n",
       "       'YARN DYED', 'DIGITAL PRINT', 'NARROW BOTTOM', 'PRINT ON CHEST',\n",
       "       'PRINT ON FRONT PANELS', 'TANT SAREE', 'SHORT STYLE', 'RELAXFIT',\n",
       "       'MULTI', 'FLATFRONT NARROWFIT', 'STRIPE', 'WASH', 'CAMO',\n",
       "       'DISCHARGE PRINT', 'PRINT ON FRONT PANEL', 'ABSTRACT',\n",
       "       'COTTON PRINT', 'RIB @ NECK AND SLV', 'SHIRT', 'SANDAL', 'B1G1',\n",
       "       'RIB @ WAIST AND BOTTOM', 'Printed Top', 'Y/D', 'ANKLE LENGTH',\n",
       "       'DRESS FABRIC COTTON', 'JOHNEY COLLAR', 'PRINTED CHECKS',\n",
       "       'SOLID PRINT', 'DESIGNER', 'KNIT DENIM CLOUD WASH WITH EMBRODIERY',\n",
       "       '4 POCKET', 'Appliqued', 'Patterned knit', 'Checked', 'DOBBY',\n",
       "       'Heathered', 'STRAIGHT KURTA', 'POLO', 'WITH BACK OPEN TOP',\n",
       "       'SHORTS-RYON AOP  WITH 2KT', 'WITH RIB & DRAW CORD', 'ENZYME WASH',\n",
       "       'EMBELLISHED', 'COMFORT FIT', 'BOTANICAL', 'COLOR',\n",
       "       'KNITTED STRIPPER SHORTS', 'SLEEVLESS', 'DRESS FABRIC', 'PC',\n",
       "       'R NECK', 'FANCY FROCK LEGGINGS', 'GRAPHIC TEE', 'GOLD FOIL',\n",
       "       'SCREEN PRINT', 'DRESS', 'CHEST PRINT', 'LEGGING', 'FLAIRED',\n",
       "       'COLLAR', 'GOLDIE BIG 250 ML', 'PRINT ON SIDE POCKETS', 'AFGHANI',\n",
       "       'SHOES', 'DUPATTA', 'WITH EMB', 'COTTON CHECKS',\n",
       "       'TERRY SHORT WITH BACK POCKET', 'HENLEY NECK', 'AOP PRINTED CAPRI',\n",
       "       'COLLAR REGULAR', 'SUBLIMATION', 'BIGI AOP CAPRI', 'AOP DENIM',\n",
       "       'SOLID COLORS', 'MULTI COLORED TAPE AT SIDES', 'GRAPHIC',\n",
       "       'STRUCTURE', 'POLKA DOT', 'HANDLOOM', 'SALWAR', 'LACE', 'LYCRA',\n",
       "       'STRIPER BOYS TEE', 'WITH DOUBLE COLORED V SHAPE RIB @ NECK',\n",
       "       'AOP', 'PRINTED TAPE AT SIDES', 'ANARKALI',\n",
       "       'BOYS HALF SLEEVES REVERSIBLE SEQUINS ROUND NECK T-SHIRT',\n",
       "       'AUTO STRIPER', 'FLORAL', 'WOVEN  PRINT', 'COLLER', 'CAMO PRINT',\n",
       "       'Twinkle 250 ML', 'FOIL PRINT',\n",
       "       'BOYS REGULAR FIT WASHED DENIM SHIRT',\n",
       "       'BOYS GRINDLE LOOP KNIT PRINTED JOGGERS ', 'EMBOIDRY', 'V NECK',\n",
       "       'PATCH', '400 ML', 'JOGGER SMART FIT', 'SOLID/CHECKS',\n",
       "       'R/NECK H/S', 'COTTON STRIPE', 'SEMI CHURIDAAR', 'KURTA',\n",
       "       'KIDS CARNIVAL', 'MIX'], dtype=object)"
      ]
     },
     "execution_count": 47,
     "metadata": {},
     "output_type": "execute_result"
    }
   ],
   "source": [
    "df[\"CNAME3\"].unique()"
   ]
  },
  {
   "cell_type": "code",
   "execution_count": 48,
   "id": "cbfae458",
   "metadata": {},
   "outputs": [
    {
     "data": {
      "text/plain": [
       "143"
      ]
     },
     "execution_count": 48,
     "metadata": {},
     "output_type": "execute_result"
    }
   ],
   "source": [
    "len(df[\"CNAME3\"].unique())"
   ]
  },
  {
   "cell_type": "code",
   "execution_count": 49,
   "id": "cb40bd5f",
   "metadata": {
    "scrolled": true
   },
   "outputs": [
    {
     "data": {
      "text/plain": [
       "array(['LIGHT PURPLE', 'BLACK', 'ASSORTED', 'BEIGE', 'RUST', 'ICE BLUE',\n",
       "       'PEACH', 'WHITE', 'NAVY BLUE', 'RED', 'TEAL', 'OLIVE', 'ORANGE',\n",
       "       'GREEN', 'YELLOW', 'BLUE', 'LIGHT BLUE', 'PINK', 'DARK BLUE',\n",
       "       'ECRU', 'MUSTARD', 'SKY BLUE', 'AQUA', 'ECRU MELANGE',\n",
       "       'GREY MELANGE', 'SEA GREEN', 'WINE', 'BROWN', 'PURPLE', 'GREY',\n",
       "       'MID BLUE', 'LAVENDER', 'LIGHT PINK', 'LIGHT GREEN',\n",
       "       'CHARCOAL GREY', 'MAUVE', 'MAROON', 'DARK GREY', 'CREAM', 'KHAKI',\n",
       "       'DARK GREEN', 'RINSE BLACK', 'Medium Yellow', 'CORAL',\n",
       "       'LIGHT GREY', 'SKY BLUE-WHITE', 'OFF WHITE', 'TURQUOISE',\n",
       "       'LIGHT YELLOW', 'GOLDEN', 'BLUE MELANGE', 'NAVY',\n",
       "       'WHITE-LIGHT PINK', 'FUCHSIA', 'LIME GREEN', 'LT GREEN',\n",
       "       'DARK PURPLE', 'LIGHT BROWN', 'DARK BROWN', 'CORAL-LIGHT BLUE',\n",
       "       'DARK PINK', 'PISTA GREEN', 'ROYAL BLUE', 'SILVER', 'NAVY MELANGE',\n",
       "       'LIGHT GREEN-GREY MELANGE', 'YELLOW-RED', 'CHARCOAL MELANGE',\n",
       "       'LIGHT GREEN-YELLOW', 'DUSTY PINK', 'PINK-BLUE',\n",
       "       'LIGHT BLUE-YELLOW', 'ANTHRA MELANGE', 'MULTI PRINTS', 'INDIGO',\n",
       "       'Dark Olive', 'MULTI', 'ORANGE-RED-WHITE', 'LIGHT OLIVE', 'NAVY ',\n",
       "       'MAGENTA', 'BOTTLE GREEN', 'MINT GREEN', 'OLIVE-ORANGE-GREY',\n",
       "       'GREEN MELANGE', 'JET BLACK', 'ECRU MEL', 'LT BLUE', 'NEON GREEN',\n",
       "       'WINE MELANGE', 'PINK-ORANGE-YELLOW', 'FUCHSIA-NAVY BLUE-YELLOW',\n",
       "       'MID GREY', 'INDIGO BLUE', 'LIGHT BEIGE', 'LIGHT PEACH',\n",
       "       'DARK BEIGE', 'DARK INDIGO', 'WHITE-BLUE', 'NEON ORANGE',\n",
       "       'CHARCOAL', 'FAWN', 'LIGHT YELLOW-LIGHT BLUE', 'ROYAL',\n",
       "       'RED-NAVY BLUE-SKY BLUE', 'BROWN MELANGE', 'WHITE-OLIVE',\n",
       "       'LIGHT ORANGE', 'GREEN-YELLOW', 'DENIM MELANGE', 'MAUVE MELANGE',\n",
       "       'PINK MELANGE', 'LIGHT YELLOW-BLUE-WHITE', 'CORAL-LIGHT GREEN',\n",
       "       'GREY-LIGHT GREEN', 'MULTI STRIPE', 'PEACH-LIGHT GREEN',\n",
       "       'YELLOW-SKY BLUE', 'CORAL-WHITE', 'WHITE-NAVY BLUE',\n",
       "       'LIGHT GREEN-ORANGE', 'PINK-WHITE', 'WHITE-ORANGE', 'GREEN-WHITE',\n",
       "       'WHITE-LIGHT GREEN', 'PINK-WHITE-GREEN', 'WHITE-PEACH',\n",
       "       'PEACH-BLUE', 'YELLOW-WHITE-BLUE', 'WHITE-LIGHT BLUE',\n",
       "       'LIGHT PINK-PEACH', 'CORAL-LIGHT PINK', 'ORANGE MELANGE',\n",
       "       'BLUE-YELLOW', 'LIGHT CORAL', 'WHITE MELANGE',\n",
       "       'FUCHSIA-PEACH-LIGHT PURPLE', 'GREEN-NAVY BLUE',\n",
       "       'NAVY-GREY MELANGE', 'AIRFORCE BLUE', 'YELLOW-WHITE', 'PEACH-PINK',\n",
       "       'BLUE-CREAM', 'PINK-GREY MELANGE', 'ORANGE-PINK', 'FUCHSIA-YELLOW',\n",
       "       'LIGHT PINK-BLUE', 'LIGHT BLUE-BLUE', 'MINT', 'LIGHT GREEN-PINK',\n",
       "       'PINK-PURPLE', 'LIGHT BLUE-LIGHT PEACH', 'TAN', 'PEACH-YELLOW',\n",
       "       'MULTICOLOR', 'STEEL GREY', 'COLOR 11', 'LIGHT PINK-LIGHT BLUE',\n",
       "       'SKYBLUE', 'LIGHT BLUE-LIGHT GREEN', 'LIGHT GREEN-LIGHT PINK',\n",
       "       'TURQUOISE BLUE', 'GREEN-BLUE', 'BLUE-CORAL', 'WHITE-PINK',\n",
       "       'ORANGE-YELLOW', 'MID BROWN', 'MID GREEN', 'WHITE-WHITE', 'MARRON',\n",
       "       'STONE', 'SKY BLUE-PEACH', 'PEACH-GREEN', 'YELLOW-NAVY BLUE',\n",
       "       'PINK-GREEN', 'SKY BLUE-CORAL', 'YELLOW-PINK',\n",
       "       'LIGHT PURPLE-YELLOW', 'CREAM-WHITE', 'NAVY-MAROON', 'NAVY-YELLOW',\n",
       "       'ORANGE-NAVY BLUE-WHITE', 'YELLOW-FUCHSIA-WHITE',\n",
       "       'GREY-NAVY BLUE-WHITE', 'PINK-WHITE-SKY BLUE',\n",
       "       'FUCHSIA-LIGHT PURPLE-WHITE', 'BLACK-RED',\n",
       "       'NAVY BLUE-ORANGE-SKY BLUE', 'LIGHT BLUE-SKY BLUE',\n",
       "       'LIGHT PINK-PINK', 'WHITE-YELLOW', 'COFFEE', 'LIGHT BLUE-PEACH',\n",
       "       'NATURAL', 'OLIVE-BLUE', 'ROYAL BLUE-ECRU-YELLOW', 'RED-NAVY',\n",
       "       'MOUSE-BLACK', 'BLACK-DARK GREY', 'LT. BLUE', 'LT. GREEN',\n",
       "       'BLACK-NAVY', 'BLUE DARK STONE', 'LIGHT BLUE-PINK',\n",
       "       'RED-NAVY BLUE', 'AQUA-CORAL', 'MULTI PRINT', 'PINK-AQUA-YELLOW',\n",
       "       'PINK-AQUA', 'CREAM-PINK', 'GREEN-PINK', 'ShortBread',\n",
       "       'SAGE GREEN', 'OFF WHITE-FUCHSIA', 'FIROZI', 'YELLOW-PINK-GREEN',\n",
       "       'MAUVE-PINK-YELLOW', 'GREEN-BLUE-CORAL', 'DARK RED',\n",
       "       'ROYAL BLUE-OLIVE', 'NAVY-SEA BLUE', 'DARK MAROON', 'KHAKHI',\n",
       "       'NAVY-RED', 'Medium Brown', 'MAUVE-GREEN', 'LIGHT GREEN-NAVY',\n",
       "       'ROYAL BLUE-BLACK', 'PINK-YELLOW-GREEN', 'DARK PETROL',\n",
       "       'LIGHT GREEN-LIGHT YELLOW', 'PINK-YELLOW-BLUE', 'SKY BLUE-BLACK',\n",
       "       'TEAL BLUE', 'PISTA', 'RED MELANGE', 'LEMON', 'VIOLET', 'SEA BLUE',\n",
       "       'CHOCOLATE', 'NAVY BLUE-BEIGE', 'MAROON-GREEN', 'BRICK',\n",
       "       'PINK-SKY BLUE-GREEN', 'PETROL', 'PINK-SKY BLUE', 'AQUA-PEACH',\n",
       "       'BLUE-PINK', 'BLUE-WHITE', 'ME. LAVENDER', 'NAVY-BLUE-WHITE',\n",
       "       'BLUE-WHITE-PINK', 'GREEN-PINK-WHITE', 'PINK-AQUA-CREAM',\n",
       "       'GREEN-BLUE-YELLOW', 'BABY PINK', 'LIGHT YELLOW-WHITE',\n",
       "       'LIGHT GREEN-LIGHT BLUE', 'BURGUNDY', 'LIGHT BLUE-WHITE-YELLOW',\n",
       "       'RANI', 'SKY BLUE-PINK', 'PINK-AQUA-PEACH', 'CARBON BLUE',\n",
       "       'DK. PURPLE', 'DK. BLUE', 'DK. INDIGO', 'BLUE SUPER STONE',\n",
       "       'DK. GREY', 'DK. YELLOW', 'BLACK-BLUE', 'ORANGE-MUSTARD',\n",
       "       'PINK-YELLOW-DARK PINK', 'RED-ECRU-YELLOW', 'R05', 'NA',\n",
       "       'BLACK-GREEN', 'GREY MELANGE-WHITE', 'LT. GREY', 'LT. PINK',\n",
       "       'RED-BLUE', None, 'LIGHT GREEN-BLUE', 'DK. PINK', 'CHERRY',\n",
       "       'PASTEL GREEN', 'BLACK MELANGE', 'BLACK MID STONE', 'LIME-GREEN',\n",
       "       'BLACK DARK STONE', 'PEACOCK GREEN', 'MID BLUE SUPER STONE',\n",
       "       'TINTED BLUE STONE', 'YOUNGFUCHSIA', 'SILVER GREY', 'ANTIQUE GOLD',\n",
       "       'MILITARY GREEN', 'NAVY BLUE-RED', 'DARK BLACK STONE',\n",
       "       'ANTRA MELANGE', 'PINE BLUE', 'TINT KHAKI', 'BLUE MID STONE',\n",
       "       'YELLOW-LIGHT BLUE', 'BLUE-ORANGE', 'SKY BLUE-RED', 'PEACH-CORAL',\n",
       "       'ORANGE-LIGHT PEACH', 'NAVY-PEACH', 'PEACH-SKY BLUE', 'MOUSE',\n",
       "       'GREY-LIGHT BLUE', 'TINTED BRICK', 'GREY MELANGE-BLUE',\n",
       "       'SKY BLUE-GREEN', 'SKY BLUE-LIGHT PURPLE-PINK',\n",
       "       'LIGHT YELLOW-ORANGE', 'SKY BLUE-YELLOW', 'WHITE-RED',\n",
       "       'NAVY-SKY BLUE', 'MEDIUM BLUE', 'PINK-CORAL', 'LIGHT YELLOW-PEACH',\n",
       "       'Lt.Blue', 'FUCHSIA-WHITE', 'WHITE-SKY BLUE', 'DARK ORANGE',\n",
       "       'PINK-NAVY', 'PURPLE-WHITE', 'GREEN-ECRU', 'GREY MELANGE-ECRU',\n",
       "       'RED-YELLOW', 'RED-YELLOW-SKY BLUE', 'GREEN-WHITE-PEACH',\n",
       "       'RED-WHITE MELANGE', 'PURPLE-PINK', 'PURPLE-PEACH', 'AQUA-YELLOW',\n",
       "       'SKY BLUE-ORANGE-WHITE', 'NAVY-WHITE', 'WHITE-MUSTARD',\n",
       "       'SEA GREEN-CORAL', 'AQUA BLUE', 'DARK BULE', 'Medium Green',\n",
       "       'NAVY BLUE-GREEN', 'SKY BLUE-NAVY BLUE-WHITE', 'WHITE ',\n",
       "       'LIGHT YELLOW-CREAM', 'BLUE-GREY MELANGE -YELLOW', 'OLIVE GREEN',\n",
       "       'SKY', 'GREY-YELLOW', 'MUSTARD-LIGHT YELLOW', 'NAVY BLUE-PINK',\n",
       "       'LIGHT YELLOW-CORAL', 'COLOR 1', 'ICE', 'BLUE-GREY MELANGE',\n",
       "       'NAVY-BLUE', 'PINE', 'RED-WHITE', 'SKY BLUE-ORANGE',\n",
       "       'DARK GREY-BLUE', 'BLUE STRIPES', 'GREY-BLACK', 'LT. ORANGE',\n",
       "       'Medium Red', 'OIL GREEN', 'YELLOW-NAVY', 'OLIVE-SKY BLUE',\n",
       "       'GREEN-RED', 'CREAM-FUSHIA', 'ROYAL BLUE-YELLOW',\n",
       "       'DARK PINK-LEMON', 'BLACK-TEAL', 'CORAL-BLACK', 'NAVY BLUE-CORAL',\n",
       "       'FUCHSIA-SEA GREEN', 'TURQUOISE-NAVY', 'ROYAL BLUE-MUSTARD',\n",
       "       'YOUNGROYAL', 'GREY SUPER STONE', 'INDIGO MELANGE', 'PEACOCKBLUE',\n",
       "       'SAP GREEN', 'PINK-YELLOW', 'WHITE-NAVY', 'RED-NAVY BLUE-WHITE',\n",
       "       'PEACH-RED', 'BLUE-GREEN', 'LIGHT YELLOW-RUST', 'SEA GREEN-YELLOW',\n",
       "       'BLUSH PINK', 'AQUA-RED-LIGHT YELLOW', 'GREEN-PEACH-WHITE',\n",
       "       'LIGHT BLUE-CORAL', 'LIGHT GREEN-SKY BLUE', 'LIGHT RED', 'VOILET',\n",
       "       'WHITE-LIGHT YELLOW', 'D.GREY', 'Medium Grey', 'LEMON GREEN',\n",
       "       'RED-MUSTARD', 'LT OLIVE', 'Dk.Grey', 'CORAL-BLUE', 'DK. GREEN',\n",
       "       'EARTH', 'LT.BROWN', 'WHEAT', 'DK. RED', 'LT. YELLOW',\n",
       "       'OAT MELANGE', 'YELLOW-SEA GREEN', 'FUSHIA-LIGHT PINK',\n",
       "       'DARK PINK-GREY', 'BLACK-SKY BLUE', 'DARK PINK-YELLOW-PINK',\n",
       "       'GREY-FUCHSIA', 'MUSTARD-RED', 'LIGHT GREEN-RED', 'ONION PINK',\n",
       "       'D.BLUE', 'ORANGE-YELLOW-SKY BLUE', 'SKY BLUE-RED-GREEN',\n",
       "       'POWDER BLUE', 'GREY MILANGE', 'APSUJAN-JUN2013', 'LIGHT WASH',\n",
       "       'DK GREY', 'MUSTARD-ECRU', 'Fancy Blue', 'MM4', 'R06',\n",
       "       'LIGHT PINK-CREAM', 'GREY-MUSTARD', 'ECRU-BLACK', 'LT. PURPLE',\n",
       "       'ME. BLUE', 'TURQUOISE-YELLOW', 'BLACK-WINE', 'RED-GREEN',\n",
       "       'TURQUOISE-ECRU', 'AQUA GREEN', 'NAVY-LIGHT PINK', 'GREEN CAMO',\n",
       "       'LIGHT KHAKI', 'WHITE-TEAL', 'LIGHT BROWN-WHITE', 'DK BROWN',\n",
       "       'TEAL GREEN', '3', 'OLIVE-BLACK', 'DK. ORANGE', 'ROYAL BLUE-NAVY',\n",
       "       'NAVY-ECRU', 'NAVY BLUE-MUSTARD', 'RED-ROYAL BLUE',\n",
       "       'LIGHT-PINK-FUCHSIA', 'BLACK-GREY MELANGE', 'BLUE-OFF WHITE',\n",
       "       'BLACK-KHAKI', 'COPPER', 'LT YELLOW', 'NAVY-ORANGE',\n",
       "       'Medium Violet', 'ORANGE-GREEN', 'GREEN-ORANGE', 'COLOR 3',\n",
       "       'HEENA', 'HARI OIL MILLS', 'MUSTRAD', 'OLIVEGREEN',\n",
       "       'RUST-BLUE MELANGE', 'NAVY-MUSTARD', 'NAVY-BLACK',\n",
       "       'DARK GREY-NAVY', 'PEACH-WINE', 'GREEN-WINE', 'YELLOW-CORAL',\n",
       "       'LIGHT BULE', 'GREY MELANGE-RED', 'FUCHSIA-YELLOW-LIGHT PURPLE',\n",
       "       'GREEN-AQUA', 'HARD', 'MELANGE', 'GREY-BLUE', 'BLUE-BROWN',\n",
       "       'LT. RED', 'DK. KHAKI', 'NA1', 'LEMON-GREY', 'GREEN-LIGHT PINK',\n",
       "       'ECRU-RED', 'PINK-ECRU MELANGE', 'DK. LAVENDER', 'OLIVINE',\n",
       "       'APSUUPTO2011', 'COLOR 2', '4', 'CHARCOAL MELANGE-ECRU MELANG',\n",
       "       'Medium Fawn', 'ME. GREY MELANG', 'YELLOW-SKY BLUE-LIGHT BLUE',\n",
       "       'SEA GREEN-GREY', 'LIGHT GREEN-GREEN', 'BLACK-OLIVE', 'OLIVE MIX',\n",
       "       'PASTEL PINK', 'FUCHSIA-NAVY', 'GREY MELANGE-NAVY',\n",
       "       'GREEN-RED-BLUE', 'DK.ROSE', 'DARK KHAKI', 'BLUE-ROYAL BLUE',\n",
       "       'ROYAL BLUE-RED', 'LT BEIGE', 'GREY MID STONE', 'LT. GREY MELANG',\n",
       "       'RED-ORANGE', 'NAVY-BEIGE', 'BLUE-NAVY', 'DARK NAVY',\n",
       "       'SKY BLUE-YELLOW-WHITE', 'Offwhite', 'LT GREY',\n",
       "       'MAROON-LIGHT GREEN', 'ALUMINUM', 'DARK PINK-SEA GREEN', 'CUSTARD',\n",
       "       'DARK YELLOW', 'ECRU-TEAL', 'RUST-WHITE', 'LT. INDIGO', 'D-GREEN',\n",
       "       'BLACK-PINK', 'BLACK-MUSTARD', 'R03', 'GREY-MAUVE', 'BLACK-BEIGE',\n",
       "       'ACID', 'LIME', 'MAROON-TEAL', 'A08', 'YELLOW-ECRU MELANGE',\n",
       "       'SKY BLUE-MUSTARD', 'BLACK-ORANGE', 'ORANGE-AQUA', 'CORAL-ECRU',\n",
       "       'MEDIUM ORANGE', 'Medium Maroon', 'MD WASH',\n",
       "       'LIGHT BLUE-DARK BLUE', 'PINK-OLIVE', 'NAVY-KHAKI', 'OLIVE-BEIGE',\n",
       "       'LIGHT FAWN', 'Medium Petrol', '6', 'LT.ORANGE', 'Medium Khaki',\n",
       "       'ORANGE-ECRU', 'FANCY VIOLET', 'YELLOW-BLUE-ORANGE',\n",
       "       'BLUE-ORANGE-NAVY', 'RED-PINK', 'GREY-RED', 'BEIGE-RUST',\n",
       "       'RUSTYROSE', 'Navy/White', 'TEAL-BLUE', 'FANCY GREEN',\n",
       "       'WHITE-BLACK', 'RED-SKY BLUE', 'FENA', 'BRICK RED', 'LIGHT BLACK',\n",
       "       'WHITE-ROYAL BLUE', 'GREY DARK STONE', 'WHITE-PISTA', 'OLIVE-NAVY',\n",
       "       'BLACK-YELLOW', 'Fancy Maroon', 'LEMON YELLOW',\n",
       "       'SEA GREEN-MUSTRUD', 'SEA GREEN-PEACH', 'CHARCOAL MELANGE-NAVY',\n",
       "       'PINK-GREY', 'WHITE-WHITE-GREEN', 'NAVY-GREEN', 'LT. BROWN',\n",
       "       'RED-BLACK', 'OFF WHITE- PINK', 'Plum', 'M.Grey Melange',\n",
       "       'SEA GREEN-LIGHT YELLOW', 'BLACK-FUCHSIA', 'APSUJAN-JUN2014'],\n",
       "      dtype=object)"
      ]
     },
     "execution_count": 49,
     "metadata": {},
     "output_type": "execute_result"
    }
   ],
   "source": [
    "df[\"CNAME6\"].unique()"
   ]
  },
  {
   "cell_type": "code",
   "execution_count": 50,
   "id": "6132deb0",
   "metadata": {},
   "outputs": [
    {
     "data": {
      "text/plain": [
       "600"
      ]
     },
     "execution_count": 50,
     "metadata": {},
     "output_type": "execute_result"
    }
   ],
   "source": [
    "len(df[\"CNAME6\"].unique())"
   ]
  },
  {
   "cell_type": "code",
   "execution_count": 51,
   "id": "27331bb8",
   "metadata": {
    "scrolled": true
   },
   "outputs": [
    {
     "data": {
      "text/plain": [
       "array(['ROUND NECK', None, 'SPREAD COLLAR', 'POLO NECK', 'SHIRT COLLAR',\n",
       "       'HOODED NECK', 'MID-RISE', 'FRONT OPEN', 'STRAIGHT',\n",
       "       'MANDARIN COLLAR', 'BAND NECK', 'CHANDERI', 'HENLEY NECK',\n",
       "       'SCOOP NECK', 'HIGH-RISE', 'V NECK', 'SQUARE NECK',\n",
       "       'ROUND NOTCHED NECK', 'BOAT NECK', 'SILK', 'COLLAR NECK', 'NA',\n",
       "       'COTTON', 'FLEXI WAIST', 'GEORGETTE', 'CHIFFON', 'SLIM FIT',\n",
       "       'RUFFLE NECK', 'SHOULDER STRAPS', 'NET', 'ASSORTED', 'V NECK ',\n",
       "       'Crew Neck', 'LYCRA', 'Mid-Rise', 'CLUB COLLAR', 'SATIN',\n",
       "       'round neck', 'CREW NECK', '0', 'Round Neck', 'NOTCHED LAPEL',\n",
       "       'SWEETHEART NECK', 'HIGH NECK', 'RESORT COLLAR', 'ROUND',\n",
       "       \"V' NECKLINE\", 'BAND COLLAR', 'Collar Neck', 'REGULAR',\n",
       "       'TIE UP NECK', 'COWL NECK', 'LAPEL COLLAR', 'OPEN NECK',\n",
       "       'PETER PAN COLLAR', 'REGULAR FIT', 'ENVELOPE NECK', 'ART SILK',\n",
       "       'BRASSO', 'OFF SHOULDER', 'WEIGHT LESS', 'U-NECK', 'V MART',\n",
       "       'LOW-RISE', 'COTTON LYCRA', 'JOHHNY COLOR POLO', 'ROUND COLLOR',\n",
       "       'MID RISE', 'ROUND COLLAR', '(blank)', 'LOW RISE', 'TROUSER',\n",
       "       'ROUND COLLLAR', 'Spread Collar', 'CUTWAY COLLAR', 'SHAWL LAPEL',\n",
       "       'VELEVT', 'KEYHOLE NECK', 'COTTON LYCRA ', 'TURTLE NECK',\n",
       "       'FULL DUNGAREES', 'VELVET', 'ZIP FLY', 'ROUND NECK WITH V CUT',\n",
       "       'HALTER NECK', 'MOCK COLLAR', 'NULL', 'VINTAGE COLLAR',\n",
       "       'COTTON SILK', 'ORGANZA', 'V Neck', 'WRAP NECK',\n",
       "       'Peter Pan Collar', 'Band Neck', 'ONE SHOULDER', 'Mid-rise',\n",
       "       'High Neck', 'Stand Collar', '#N/A', 'SHORT DUNGAREES',\n",
       "       'STRAPLESS', 'Bateau Neck', 'COLLAR LESS', 'SUPER NET', 'Low Rise',\n",
       "       'BLOOMING', 'Scoop Neck', 'MUSCLE', 'Forward Point Collar',\n",
       "       'STRAP COLLAR', 'VICHITRA SILK', 'Mock Collar',\n",
       "       'POLY COTTON LYCRA', 'Square Neck', 'Others', 'V-NECK', 'RACER',\n",
       "       'CHOKER NECK'], dtype=object)"
      ]
     },
     "execution_count": 51,
     "metadata": {},
     "output_type": "execute_result"
    }
   ],
   "source": [
    "df[\"UDFSTRING01\"].unique()"
   ]
  },
  {
   "cell_type": "code",
   "execution_count": 52,
   "id": "a40e0904",
   "metadata": {},
   "outputs": [
    {
     "data": {
      "text/plain": [
       "118"
      ]
     },
     "execution_count": 52,
     "metadata": {},
     "output_type": "execute_result"
    }
   ],
   "source": [
    "len(df[\"UDFSTRING01\"].unique())"
   ]
  },
  {
   "cell_type": "code",
   "execution_count": 54,
   "id": "7ffb9ba5",
   "metadata": {},
   "outputs": [
    {
     "data": {
      "text/plain": [
       "array([None, 'LOOSE FIT', 'REGULAR FIT', 'SLIM FIT', 'SKINNY FIT',\n",
       "       'LIGHT WEIGHT', 'FLARED', 'ANKLE FIT', 'PRINTED', 'JOGGER',\n",
       "       'COTTON', 'WIDE LEG FIT', 'CARGO', 'EMBROIDERED', 'RELAXED FIT',\n",
       "       'STRAIGHT FIT', 'BOXY FIT', 'PLAIN', 'ZARI', 'BOOT CUT FIT',\n",
       "       'STRAIGHT', 'SKINNY', 'SLOUCHY FIT', 'SATIN', 'EMBROIDERED LACE',\n",
       "       'SLIMFIT', 'NA', 'SILK', 'MOM FIT', 'MUSCLE', 'MUSCLE FIT',\n",
       "       'REGULAR', 'BOYFRIEND FIT', 'SHACKETS', 'BAGGY FIT', 'URBAN FIT',\n",
       "       'COMFORT FIT', 'CARPENTER FIT', 'HANDWORK', 'FITTED',\n",
       "       'CARGO JOGGER', 'GEORGETTE', 'SPREAD COLLAR', 'FLEXI WAIST',\n",
       "       'Long sleeves', 'OVERSIZED FIT', '(blank)', 'Regular fit',\n",
       "       'Slim fit', 'Regular Fit', 'LACE', 'RUBY CUT', 'STRIPES',\n",
       "       'TAPERED FIT', 'BELL BOTTOM', 'NET', 'Slim Fit', 'CARROT FIT',\n",
       "       'ROUND COLLAR', 'GOTA PATTI', 'DRY FIT', 'ANKLE FIT ', 'Check',\n",
       "       'LIGHT WEIGHT ', 'HALFSLEEVES', 'FENTAM', 'HEAVY WEIGHT',\n",
       "       'BIG SIZE', 'MULTI COLOR JACQUARD', 'FRONT ALL OVER PRINT',\n",
       "       'JACQUARD', 'SELF JACQUARD', 'MULTI BORDER', 'HIGH WAIST ELASTIC'],\n",
       "      dtype=object)"
      ]
     },
     "execution_count": 54,
     "metadata": {},
     "output_type": "execute_result"
    }
   ],
   "source": [
    "df[\"UDFSTRING02\"].unique()"
   ]
  },
  {
   "cell_type": "code",
   "execution_count": 55,
   "id": "bec34f62",
   "metadata": {},
   "outputs": [
    {
     "data": {
      "text/plain": [
       "74"
      ]
     },
     "execution_count": 55,
     "metadata": {},
     "output_type": "execute_result"
    }
   ],
   "source": [
    "len(df[\"UDFSTRING02\"].unique())"
   ]
  },
  {
   "cell_type": "code",
   "execution_count": 56,
   "id": "31496c36",
   "metadata": {},
   "outputs": [
    {
     "data": {
      "text/plain": [
       "array(['LONG SLEEVES', 'DARK', None, 'SHORT SLEEVES', 'LIGHT',\n",
       "       'THREE QUARTERS', 'MEDIUM', 'HOOK', 'SLEEVELESS', 'FASHION',\n",
       "       'ASSORTED', 'THREE-FOURTH', 'HALF SLEEVES', 'FULL SLEEVES', 'NA',\n",
       "       'Long sleeves', 'HALFSLEEVES', 'CAPE SLEEVES', 'CALF LENGTH',\n",
       "       'THIGH LENGTH', 'HALF SLEEVE', 'THREE-QUARTERS', 'REGULAR SLEEVES',\n",
       "       'THREE-QUARTER SLEEVES', 'CAP SLEEVES', 'SLIM FIT', 'ANKLE FIT',\n",
       "       'FRILL SLEEVES', 'HALF sleeves', '(blank)', 'Short sleeves',\n",
       "       'SLEEVLESS', 'THREE FOURTH', 'Sleeveless', 'REGULAR FIT',\n",
       "       'ELBOW SLEEVES', 'EXTENDED SLEEVES', 'OFF SHOULDER', 'REGULAR',\n",
       "       'Regular', 'KNEE LENGTH', 'BELL  SLEEVES', 'ANKLE LENGTH',\n",
       "       'Medium', 'Elbow sleeves', 'Flutter sleeves', 'Bishop sleeves',\n",
       "       'Cap sleeves', 'HIP LENGTH', 'Batwing sleeves', 'Puff sleeves',\n",
       "       'Raglan sleeves', 'BELL SLEEVES'], dtype=object)"
      ]
     },
     "execution_count": 56,
     "metadata": {},
     "output_type": "execute_result"
    }
   ],
   "source": [
    "df[\"UDFSTRING03\"].unique()"
   ]
  },
  {
   "cell_type": "code",
   "execution_count": 57,
   "id": "2d32fe08",
   "metadata": {},
   "outputs": [
    {
     "data": {
      "text/plain": [
       "53"
      ]
     },
     "execution_count": 57,
     "metadata": {},
     "output_type": "execute_result"
    }
   ],
   "source": [
    "len(df[\"UDFSTRING03\"].unique())"
   ]
  },
  {
   "cell_type": "code",
   "execution_count": 58,
   "id": "1a941cb4",
   "metadata": {
    "scrolled": true
   },
   "outputs": [
    {
     "data": {
      "text/plain": [
       "array([None, 'WIDE LEG', 'REGULAR SLEEVES', 'FLARED SLEEVES', 'SIDE TAPE',\n",
       "       'GATHERED SLEEVES', 'BOTTOM RIB', 'CARGO', 'CULOTTES',\n",
       "       'BELL BOTTOM', 'ASSORTED', 'LIGHT', 'KNIT', 'DARK', 'ROMA ',\n",
       "       'ROLL-UP SLEEVES', 'PUFF SLEEVES', 'ELASTICATED SLEEVES',\n",
       "       'CAP SLEEVES', 'KNIT ', 'FRILL SLEEVES', 'BELL SLEEVES', 'REGULAR',\n",
       "       'RAGLAN SLEEVES', 'WOVEN', 'PLEATED SLEEVES', 'DISTRESSED',\n",
       "       'STRETCH', 'DESIGNER', 'NA', 'SHOULDER STRAPS', 'BUTTON AND FLY',\n",
       "       'THREE-FOURTH', 'RUCHED SLEEVES', 'CUT & SEW', 'SIDE PIPING',\n",
       "       'Long sleeves', 'EXTENDED SLEEVES', 'BALLOON SLEEVES', '0',\n",
       "       'BASIC', 'Regular', 'DROP SHOULDER', '3/4TH SLEEVES',\n",
       "       'MAGYAR SLEEVES', 'PAPER BAG WAIST', 'RUFFLE SLEEVES', ' WOVEN ',\n",
       "       'Regular Sleeves', 'ROMA', 'TOP-DUNGAREES',\n",
       "       'COLD SHOULDER SLEEVES', 'FLUTTER SLEEVES', '2', 'CUFFED SLEEVES',\n",
       "       'ZIPPER', '1', ' DESIGNER', 'PRINTED', 'Elasticated Sleeves',\n",
       "       ' BELL BOTTOM ', 'COLORED', ' DESIGNER ', 'KIMONO SLEEVES',\n",
       "       'JOGGERS', 'SHORT SLEEVES', '3/4TH SLEEVE', 'HAREM', 'MIDI',\n",
       "       'DENIM', 'BISHOP SLEEVES', 'CASUAL', '(blank)', 'FITTED', 'SOLID',\n",
       "       'TIE KNOT', 'TIE UP SLEEVES', 'CONTRAST CUFF',\n",
       "       'STRIPE PRINTED SLEEVES', 'BIG SIZE', 'SIDE FLATLOCK',\n",
       "       'DOCTOR SLEEVES', 'BARDOT SLEEVES', 'OFF SHOULDER',\n",
       "       'SMOCKING SLEEVES', 'DIGITAL PRINTED', 'Puff sleeves',\n",
       "       'Puff Sleeves', 'SINGLET', 'BATWING SLEEVES', 'DOLMAN SLEEVE',\n",
       "       'HALF SLEEVES', 'light', 'JOGGER', 'Elasticated sleeves', 'RELEX',\n",
       "       'EMBROIDERED', 'SLIT SLEEVES', 'ELASTICATED RUFFLE SLEEVE',\n",
       "       'LAYERED SLEEVES', 'KNOTTED SLEEVES', 'PONCHO', 'FADED',\n",
       "       'SLEEVELESS', 'KAFTAN SLEEVES', 'Basic', 'SUEDE'], dtype=object)"
      ]
     },
     "execution_count": 58,
     "metadata": {},
     "output_type": "execute_result"
    }
   ],
   "source": [
    "df[\"UDFSTRING04\"].unique()"
   ]
  },
  {
   "cell_type": "code",
   "execution_count": 59,
   "id": "94a5e517",
   "metadata": {},
   "outputs": [
    {
     "data": {
      "text/plain": [
       "107"
      ]
     },
     "execution_count": 59,
     "metadata": {},
     "output_type": "execute_result"
    }
   ],
   "source": [
    "len(df[\"UDFSTRING04\"].unique())"
   ]
  },
  {
   "cell_type": "code",
   "execution_count": 60,
   "id": "b1cf082c",
   "metadata": {
    "scrolled": true
   },
   "outputs": [
    {
     "data": {
      "text/plain": [
       "array([None, 'PLEATED', 'CASUAL', 'TOP-LEGGINGS', 'DAILY', 'FORMAL',\n",
       "       'STRETCH', 'REGULAR SHORTS', 'T-SHIRT-PYJAMA', 'FULL CLOSE',\n",
       "       'DRAWSTRING', 'PLAIN BORDER', 'PYJAMA SET', 'BOTTOM STRAIGHT',\n",
       "       'EVENING', 'DENIM SHORTS', 'FUSION', 'PARTY', 'LONG NIGHTY',\n",
       "       'NON STRETCH', 'SLIPON', 'TOP-PANT', 'REGULAR', 'CHINOS',\n",
       "       'ROMPERS', 'RIB', 'JOGGERS', 'T-SHIRT-SANDO-SHORT',\n",
       "       'T-SHIRT-SHORTS', 'WAISTCOAT', 'LACED', 'CARGOS', 'PANT',\n",
       "       'HOT PANTS', 'SHERWANI-TROUSER', 'T-SHIRT-PANT', 'JEGGINGS',\n",
       "       'T-SHIRT-PANTS', 'SHARARA', 'TOP-SKIRT', 'KURTA-CHURIDAR',\n",
       "       'TOP-DUNGAREE-PANT', 'REGULAR CAPRI', 'PALAZZO',\n",
       "       'WITHOUT ACCESSORY', 'DUNGAREE-T-SHIRT', 'TOP-SHORTS',\n",
       "       'SHARARA SET', 'POM POM', 'FULL CHURIDAR', 'FEEDER NIGHTY',\n",
       "       'KURTA- DHOTI', 'THERMAL TOPS', 'FESTIVE', 'SHORT SET',\n",
       "       'CARGO SHORTS', 'CHINOS SHORTS', 'NA', '0', 'PULLOVER', 'Lower',\n",
       "       '(blank)', 'CALF LENGTH', 'GOWN', 'KURTA PALAZZO SET', 'KURTA',\n",
       "       'HAREM', 'HALF ZIP', 'BOMBER JACKET', 'SINGLE BREASTED',\n",
       "       'CARGO JOGGER', 'TOP-PALAZZO', 'ALL OVER PRINTED', 'CARGO',\n",
       "       'SHERWANI-PYJAMA', 'GARARA', 'Stretch', 'SHORT NIGHTY', 'Casual',\n",
       "       'CHINO SHORTS', 'TOP-CAPRI', 'GARARA SET', 'TOP-BLOOMER',\n",
       "       'SANDO-SHORT', 'COTTON JACKET', 'FROCK-LEGGINGS', 'WITH ACCESSORY',\n",
       "       'CAPRI SET', 'T-SHIRT-JACKET-SHORTS', 'T-SHIRT-JAMAICAN',\n",
       "       'TOP-DUNGAREE', 'KURTA PANT SET', 'NIGHTY', 'LEHENGA SET',\n",
       "       'T-SHIRT-SKIRT', 'T-SHIRT', 'SPORTS', 'SLEEVELESS', 'PYJAMA',\n",
       "       'KURTA WITH NEHRU JACKET', 'TUXEDO', 'KURTA-PYJAMA',\n",
       "       'SHIRT-JACKET-SHORTS', 'SHIRT-SHORT', 'JOGGERS SET',\n",
       "       'TOP-INNER-SKIRT', 'JOGGER', 'TOP-SHARARA', 'TASSELS',\n",
       "       'PRINTED BORDER', 'SHRUG', 'FASHION VEST', 'REGULAR TROUSER',\n",
       "       'TSHIRT-SHORTS', 'SLIPS-SHORTS', 'TSHIRT-PYJAMA',\n",
       "       'TOP-DUNGAREE SKIRT', 'JHODPURI', 'BLAZER', 'TOP-DUNGAREE SHORTS',\n",
       "       'TSHIRT-CARGO', 'SHIRT-JACKET-PANT', 'T-SHIRT-CAPRI',\n",
       "       'SHIRT-SHORTS', 'DRESS SHIRT', 'SALWAR', 'DHOTI',\n",
       "       'TOP-SKIRT-HAIRBAND', 'STRETCHABLE', 'MEDICAL SCRUBS',\n",
       "       'SHIRT-PANT', 'PYJAMAS', 'TUNICS', 'MOTHER BAGS', 'DUNGAREE SET',\n",
       "       'TOP-SKIRT-DUPATTA', 'KURTA SET', 'DRESS', 'ASSORTED', 'TOP-SHORT',\n",
       "       'T-SHIRT- PANT', 'TOP-DUNGAREE-LEGGING', 'TSHIRT-PANT',\n",
       "       'NON-STRETCH', 'SPORTS SHORTS', 'THERMAL TOP', 'TROUSER',\n",
       "       'FULL ZIP', 'SHERWANI-CHURIDAR ', 'JACKET-TOP-SHORT',\n",
       "       'SHORT T-SHIRT SET', 'JACKET-TOP-SKIRT', 'SKIRT',\n",
       "       'ELASTECATED WAIST BAND', 'T-SHIRT-JACKET-PANT', 'SHIRT STYLE',\n",
       "       'ZIPPER HOOD-JOGGER', 'DENIM JACKET', 'T-SHIRT-LEGGINGS',\n",
       "       'TOP-DRESS-LEGGINGS', 'TOP-PANT-JACKET', 'SWEATER-PYJAMA',\n",
       "       'LACHA SET', 'CAMI SHIRT', 'TOP-PYJAMA', 'DOUBLE BREASTED',\n",
       "       'TOP-DUNGAREE-PANTS', 'SHERWANI-DHOTI', 'THIGH LENGTH',\n",
       "       'LONG FROCK', 'TOP-DUNGAREE PANT', 'KURTA-DHOTI',\n",
       "       'JACKET-FROCK-LEGGING', 'OCCASION', 'GHAGRA', 'JACKET-SHIRT-SHORT',\n",
       "       'PYJAMAS SET', 'BUTTON DOWN SHIRT', 'FROCK-LEGGINGS-SHRUG',\n",
       "       'Shirt', 'VEST-SHORTS', 'CAP SLEEVES', 'CHURIDAR',\n",
       "       'SHRUG KURTA PANT', 'SANDO-SHORTS', 'QUILTED JACKET', 'TOP-PANTY',\n",
       "       'SWEATSHIRT', 'WAIST LENGTH', 'FRONT OPEN', 'HALF OPEN',\n",
       "       'SHIRT-WAISTCOAT-PANT', 'ROMA SHORTS', 'THERMAL BOTTOMS',\n",
       "       'PADDED JACKET', 'TOP-SKIRT-LEGGINGS', 'FRONT CLOSE',\n",
       "       'T-SHIRT-JACKET-PANTS', 'MIDDY-LEGGING', 'SWEATER-PANT',\n",
       "       'JACKET-FROCK-PANTS', 'SWEATER-PANTS', 'JUMPSUIT', 'JACKET-PANT',\n",
       "       'WITH BELT', 'SWEATER', 'SPORTY JACKET', 'OVERCOAT/TRENCH COAT ',\n",
       "       'CORD SET', 'VARSITY JACKET', 'FULL BUTTON', 'TOP-CAPRIS',\n",
       "       'TOP-DRESS-PANTS', 'SHIRT', 'SHIRT-PANTS', 'WIND CHEATER',\n",
       "       'PARACHUTE PANTS', 'HALF BUTTON', 'T-SHIRT-DRESS'], dtype=object)"
      ]
     },
     "execution_count": 60,
     "metadata": {},
     "output_type": "execute_result"
    }
   ],
   "source": [
    "df[\"UDFSTRING05\"].unique()"
   ]
  },
  {
   "cell_type": "code",
   "execution_count": 61,
   "id": "bae9bacc",
   "metadata": {},
   "outputs": [
    {
     "data": {
      "text/plain": [
       "219"
      ]
     },
     "execution_count": 61,
     "metadata": {},
     "output_type": "execute_result"
    }
   ],
   "source": [
    "len(df[\"UDFSTRING05\"].unique())"
   ]
  },
  {
   "cell_type": "code",
   "execution_count": 62,
   "id": "a723b649",
   "metadata": {
    "scrolled": true
   },
   "outputs": [
    {
     "data": {
      "text/plain": [
       "array(['MESSAGE PRINT', None, 'PLAIN', 'HORIZONTAL STRIPES',\n",
       "       'GRAPHIC PRINT', 'PLAID CHECKS', 'LOGO', 'FLORAL PRINT',\n",
       "       'SMALL CHECKS', 'ALL OVER PRINT', 'EMBROIDERED', 'MEDIUM CHECKS',\n",
       "       'VERTICAL STRIPES', 'PRINTED', 'PENCIL STRIPES', 'DITSY PRINT',\n",
       "       'POLKA DOTS', 'PLEATED', 'BUTA PRINT', 'MICRO CHECKS',\n",
       "       'GEOMETRICAL PRINTS', 'CHANDERI', 'All OVER PRINT', 'WHISKERED',\n",
       "       'EMBELLISHED', 'READY TO WEAR', 'CHEST PRINT', 'GLITTER',\n",
       "       'SEQUENCE', 'IKAT', 'CUT & SEW', 'STRIPER', 'APPLIQUE',\n",
       "       'BROAD CHECKS', 'PAISLEY', 'SCREEN PRINT', 'PINSTRIPES',\n",
       "       'BANARASI', 'ELASTICATED', 'ABSTRACT PRINT', 'FOIL PRINT',\n",
       "       'HEAVY WORK', 'FRONT PRINT', 'BENGAL', 'MILD DISTRESS',\n",
       "       'DIAGONAL STRIPES', 'BLOCK PRINT', 'DOBBY', 'JACQUARD',\n",
       "       'COLOURBLOCKED', 'BASIC', 'STICKERS', 'NA', 'DIGITAL PRINT',\n",
       "       'STRIPER PRINT', 'DISTRESSED', 'EMB BLOUSE', 'FRAYED HEM', 'DYED',\n",
       "       'TYE DYED', 'STRIPES', 'ALL OVER PRINTED', 'CHIKANKARI', 'GOTA',\n",
       "       'SOLID', 'TEXTURED', 'BLEACHED', 'COMPUTER DESIGN', 'GOLD PRINT',\n",
       "       '0', 'SCHIFFLI', 'MULTI STRIPED', 'ASSORTED', 'MESH',\n",
       "       'KHADI PRINT', 'CHECKS', 'YARN DYED', 'DOBBY PRINT',\n",
       "       'CHEVRON PRINT', 'CAMOUFLAGE', 'TROPICAL PRINT', 'CARGO SHIRT',\n",
       "       'PRINTED JAAL', 'WINDOWPANE CHECKS', 'TRIBAL', 'FRONT BACK PRINT',\n",
       "       'BEACH', 'FRONT OPEN NECK', 'MULTIFUNCTIONAL KEY', 'CUFFED HEM',\n",
       "       'CORDUROY', 'ZARI WORK', 'BANDHANI', 'STYLE YOUR STRUCTURE',\n",
       "       'RUBBER PRINT', 'TYPOGRAPHY', 'LEHERIYA', 'LACE',\n",
       "       'PLACEMENT PRINT', 'BADGE', 'DENIM', 'BATIK', 'PATCH',\n",
       "       'URBAN EDGE', 'PEPLUM', 'EMBOSSED', 'GINGHAM CHECKS',\n",
       "       'ANKLE LENGTH', 'SUPER LINING', 'SEQUENCE/GLITTER', 'RUFFLES',\n",
       "       'HEM DESIGN', 'CHARACTER PRINT', 'SIDE TAPE', 'BELT', 'WASHED',\n",
       "       'PRINT DESIGN', 'Printed', 'LAYERED DESIGN', 'SMOCKING', 'STUDDED',\n",
       "       'Day Dream Floral', 'BROWN TOWN', 'REFINE BOTANICAL', 'GRAY SCALE',\n",
       "       'CASUAL', 'WRINKLED', 'JUNGLE ADVENTURER', '(blank)',\n",
       "       'HALF AND HALF', 'EVERGREEN FOREST', 'Tickling Textures',\n",
       "       'GRAPHIC PRINTS', 'Private Brand-SOR', 'Logo', 'All Over Print',\n",
       "       'AARI WORK', 'Solid', 'TANT SAREE', 'HEAVY DISTRESS', 'ZIPPER',\n",
       "       'HD PRINT', 'REGULAR', 'METAL', 'SPRAY PRINT', 'EVENING WEAR',\n",
       "       'SEQUINS', 'RAPID DRY', 'TEXT PRINT', 'INDIGO', 'Graphic Print',\n",
       "       'LUREX', 'DAIMANTE', 'ANIMAL PRINT', 'OVER DYED', 'TANT',\n",
       "       'FRINGED', 'SELF DESIGN', 'BLING', 'PRINT', 'PINTUCK', 'CRINKLED',\n",
       "       'KALAMKARI', 'BELL BOTTOM', 'BRIDAL', 'CUT OUTS',\n",
       "       'NEUTRAL NAVIGATORS', 'Embroidered', 'TUSSAR', 'BIKER',\n",
       "       'WOVEN DESIGN', 'VALUE ADDITION', 'POCKET TEE', 'REVERSIBLE',\n",
       "       'FADED', 'DENIM TEE', 'STONE WORK', 'STRUCTURE IT UP', 'CARGO',\n",
       "       'OMBRE', 'TIE-UPS', 'BHAGALPURI', 'URBAAN EDGE', 'DENIM JACKET',\n",
       "       'TOP- SKIRT', 'DONUT&MUFFIN PRINT', 'HD PRINT-SEQUENCE', 'CHECK',\n",
       "       'RED RANGERS', 'CHALK STRIPES', 'Abstract Print', 'FLORAL ISLAND',\n",
       "       'MONOCHROME', 'PEARL'], dtype=object)"
      ]
     },
     "execution_count": 62,
     "metadata": {},
     "output_type": "execute_result"
    }
   ],
   "source": [
    "df[\"UDFSTRING06\"].unique()"
   ]
  },
  {
   "cell_type": "code",
   "execution_count": 63,
   "id": "91f4a0ea",
   "metadata": {},
   "outputs": [
    {
     "data": {
      "text/plain": [
       "194"
      ]
     },
     "execution_count": 63,
     "metadata": {},
     "output_type": "execute_result"
    }
   ],
   "source": [
    "len(df[\"UDFSTRING06\"].unique())"
   ]
  },
  {
   "cell_type": "code",
   "execution_count": 64,
   "id": "a979d2b1",
   "metadata": {
    "scrolled": true
   },
   "outputs": [
    {
     "data": {
      "text/plain": [
       "array(['FRONT', None, 'ALL OVER', 'CHEST', 'ALL OVER PRINT', 'REGULAR',\n",
       "       'SOLID', 'ZARI WORK', 'PLAIN', 'FLORAL PRINT', 'STRIPED', 'DAILY',\n",
       "       'EMBROIDERED', 'HAND WORK', 'FESTIVE', 'STRIPES', 'THREAD WORK',\n",
       "       'FRONT AND BACK PRINT', 'PLACEMENT', 'MEDIUM', 'ABSTRACT PRINT',\n",
       "       'STONE WORK', 'PRINTED', 'NA', '0', 'PLACEMENT PRINT', 'BACK',\n",
       "       'SEQUIN NED', 'chest', 'JACQUARD', 'DALY', 'FRONT\\t', 'PARTY',\n",
       "       'CASUAL', 'BEDS AND STONE WORK', 'FORMAL', 'METAL WORK',\n",
       "       'CHEST PRINT', 'SMALL', 'DYED', 'POLKA DOTS', 'CHARACTER PRINT',\n",
       "       'SIDE TAPE', 'BOTTOM DETAILING', 'CHECKS BORDER', 'RESHAM WORK',\n",
       "       'LACE WORK', 'HORIZONTAL STRIPES', 'STRIPER', 'MEDIUM CHECKS',\n",
       "       'PATCH', 'EMBELLISHED', 'FRONT ', 'CHANDERI', 'All OVER',\n",
       "       '(blank)', 'SLEEVE', 'BROCADE', 'RUFFLES', 'SEQUINS',\n",
       "       'GEOMETRICAL', 'OMBREY', 'PATCH WORK', 'DIGITAL PRINTING',\n",
       "       'HALF AND HALF', 'VERTICAL STRIPES', 'SIDE', 'GOTA WORK',\n",
       "       'SELF DESIGN', 'MESSAGE PRINT', 'STICKER', 'CERAMIC WORK',\n",
       "       'BEADWORK', 'STONE', 'ABSTRACT', 'METAL WORK '], dtype=object)"
      ]
     },
     "execution_count": 64,
     "metadata": {},
     "output_type": "execute_result"
    }
   ],
   "source": [
    "df[\"UDFSTRING07\"].unique()"
   ]
  },
  {
   "cell_type": "code",
   "execution_count": 65,
   "id": "bb6c5c35",
   "metadata": {},
   "outputs": [
    {
     "data": {
      "text/plain": [
       "76"
      ]
     },
     "execution_count": 65,
     "metadata": {},
     "output_type": "execute_result"
    }
   ],
   "source": [
    "len(df[\"UDFSTRING07\"].unique())"
   ]
  },
  {
   "cell_type": "code",
   "execution_count": 66,
   "id": "cc385054",
   "metadata": {},
   "outputs": [
    {
     "data": {
      "text/plain": [
       "array(['REGULAR', None, 'ANKLE LENGTH', 'ABOVE KNEE', 'CALF LENGTH',\n",
       "       'FULL LENGTH', 'KNEE LENGTH', 'HIP LENGTH', 'ALL OVER', 'CROPPED',\n",
       "       'MIDI', 'SHIRT', 'MAXI', 'NA', 'Regular', 'SHORT', 'LONG',\n",
       "       'ANKLE FIT', 'THREE FOURTH', 'LONG ', 'CAPRIS', 'FULL LENGHT',\n",
       "       'CROP', 'MINI', 'A-LINE', 'STRAIGHT', 'SHORT ', '(blank)', 'TUNIC',\n",
       "       'ANKLE LENGHT', 'FRONT', ' ABOVE KNEE', 'MID LENGTH', 'BELOW KNEE',\n",
       "       'MID THIGH', ' ANKLE LENGTH', 'regular'], dtype=object)"
      ]
     },
     "execution_count": 66,
     "metadata": {},
     "output_type": "execute_result"
    }
   ],
   "source": [
    "df[\"UDFSTRING08\"].unique()"
   ]
  },
  {
   "cell_type": "code",
   "execution_count": 67,
   "id": "730c5244",
   "metadata": {},
   "outputs": [
    {
     "data": {
      "text/plain": [
       "array([None, 'WITHOUT POCKET', 'SHIRT STYLE', ..., 'CLJBCOT20933A01001',\n",
       "       '263527331W01L200M', '269783491G05L218M'], dtype=object)"
      ]
     },
     "execution_count": 67,
     "metadata": {},
     "output_type": "execute_result"
    }
   ],
   "source": [
    "df[\"UDFSTRING09\"].unique()"
   ]
  },
  {
   "cell_type": "code",
   "execution_count": 68,
   "id": "4af4934a",
   "metadata": {},
   "outputs": [
    {
     "data": {
      "text/plain": [
       "1835"
      ]
     },
     "execution_count": 68,
     "metadata": {},
     "output_type": "execute_result"
    }
   ],
   "source": [
    "len(df[\"UDFSTRING09\"].unique())"
   ]
  },
  {
   "cell_type": "code",
   "execution_count": 71,
   "id": "97eca87d",
   "metadata": {},
   "outputs": [
    {
     "data": {
      "text/plain": [
       "array([None, 'UNISEX', 'GIRLS', 'OVER DYED', 'CLOUD WASH', 'MACHINE WASH',\n",
       "       'BASIC WASH', 'BOYS', 'ACID WASH', 'SPRAY WASH', 'HAND WASH', 'NA',\n",
       "       '0', 'EASY WASH', 'ENZYME WASH', 'MACHINE', 'STONE WASH',\n",
       "       'REGULAR', 'BLAST WASH', '(blank)', 'SRL-199', 'SRL-599',\n",
       "       'SRL-999', 'ON MRP', 'TOWEL WASH', 'Basic Wash', 'SRL-399',\n",
       "       'Stone washed', 'SRL-699', 'SRL-299', 'SRL-799', 'WISKERED', '2',\n",
       "       'NORMAL WASH', 'SRL-499', '3', 'DISTRESSED', 'SRL-MRP', 'RFD WASH',\n",
       "       'SRL-899', 'SRL-1399', 'Rinsed', 'Data Mapping TST2'], dtype=object)"
      ]
     },
     "execution_count": 71,
     "metadata": {},
     "output_type": "execute_result"
    }
   ],
   "source": [
    "df[\"UDFSTRING10\"].unique()"
   ]
  },
  {
   "cell_type": "code",
   "execution_count": 70,
   "id": "636c3026",
   "metadata": {},
   "outputs": [
    {
     "data": {
      "text/plain": [
       "43"
      ]
     },
     "execution_count": 70,
     "metadata": {},
     "output_type": "execute_result"
    }
   ],
   "source": [
    "len(df[\"UDFSTRING10\"].unique())"
   ]
  },
  {
   "cell_type": "code",
   "execution_count": 53,
   "id": "42836cdc",
   "metadata": {},
   "outputs": [
    {
     "data": {
      "text/plain": [
       "Index(['UDFSTRING15', 'OPH3', 'SHRTNAME', 'ADM_SITE_CODE', 'BILLDATE',\n",
       "       'LEV1GRPNAME', 'LEV2GRPNAME', 'GRPNAME', 'ARTICLECODE', 'ARTICLENAME',\n",
       "       'ICODE', 'DESC5', 'DESC3', 'DESC2', 'CNAME2', 'CNAME3', 'CNAME6',\n",
       "       'UDFSTRING01', 'UDFSTRING02', 'UDFSTRING03', 'UDFSTRING04',\n",
       "       'UDFSTRING05', 'UDFSTRING06', 'UDFSTRING07', 'UDFSTRING08',\n",
       "       'UDFSTRING09', 'UDFSTRING10', 'GROSSAMT', 'MRPAMT', 'NETAMT', 'QTY',\n",
       "       'DISCOUNTAMT', 'PROMOAMT'],\n",
       "      dtype='object')"
      ]
     },
     "execution_count": 53,
     "metadata": {},
     "output_type": "execute_result"
    }
   ],
   "source": [
    "df.columns"
   ]
  }
 ],
 "metadata": {
  "kernelspec": {
   "display_name": "Python 3 (ipykernel)",
   "language": "python",
   "name": "python3"
  },
  "language_info": {
   "codemirror_mode": {
    "name": "ipython",
    "version": 3
   },
   "file_extension": ".py",
   "mimetype": "text/x-python",
   "name": "python",
   "nbconvert_exporter": "python",
   "pygments_lexer": "ipython3",
   "version": "3.11.3"
  }
 },
 "nbformat": 4,
 "nbformat_minor": 5
}
