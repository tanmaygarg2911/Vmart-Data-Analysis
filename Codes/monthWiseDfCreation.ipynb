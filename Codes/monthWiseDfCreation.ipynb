{
 "cells": [
  {
   "cell_type": "code",
   "execution_count": 1,
   "id": "c1feaa29-2332-42fa-946a-a2b42be7ef44",
   "metadata": {},
   "outputs": [],
   "source": [
    "import pandas as pd\n",
    "import numpy as np\n",
    "import matplotlib as mt\n",
    "import seaborn as sn\n",
    "from os import *"
   ]
  },
  {
   "cell_type": "code",
   "execution_count": 2,
   "id": "b280756b",
   "metadata": {
    "scrolled": true
   },
   "outputs": [
    {
     "data": {
      "text/plain": [
       "['C:\\\\Users\\\\tanmay\\\\IITM Capsstone Project\\\\txn_data\\\\01JUL2024-01JUL2024_BILLS.parquet',\n",
       " 'C:\\\\Users\\\\tanmay\\\\IITM Capsstone Project\\\\txn_data\\\\01JUN2024-01JUN2024_BILLS.parquet',\n",
       " 'C:\\\\Users\\\\tanmay\\\\IITM Capsstone Project\\\\txn_data\\\\01MAY2024-01MAY2024_BILLS.parquet',\n",
       " 'C:\\\\Users\\\\tanmay\\\\IITM Capsstone Project\\\\txn_data\\\\02JUL2024-02JUL2024_BILLS.parquet',\n",
       " 'C:\\\\Users\\\\tanmay\\\\IITM Capsstone Project\\\\txn_data\\\\02JUN2024-02JUN2024_BILLS.parquet',\n",
       " 'C:\\\\Users\\\\tanmay\\\\IITM Capsstone Project\\\\txn_data\\\\02MAY2024-02MAY2024_BILLS.parquet',\n",
       " 'C:\\\\Users\\\\tanmay\\\\IITM Capsstone Project\\\\txn_data\\\\03JUL2024-03JUL2024_BILLS.parquet',\n",
       " 'C:\\\\Users\\\\tanmay\\\\IITM Capsstone Project\\\\txn_data\\\\03JUN2024-03JUN2024_BILLS.parquet',\n",
       " 'C:\\\\Users\\\\tanmay\\\\IITM Capsstone Project\\\\txn_data\\\\03MAY2024-03MAY2024_BILLS.parquet',\n",
       " 'C:\\\\Users\\\\tanmay\\\\IITM Capsstone Project\\\\txn_data\\\\04JUL2024-04JUL2024_BILLS.parquet',\n",
       " 'C:\\\\Users\\\\tanmay\\\\IITM Capsstone Project\\\\txn_data\\\\04JUN2024-04JUN2024_BILLS.parquet',\n",
       " 'C:\\\\Users\\\\tanmay\\\\IITM Capsstone Project\\\\txn_data\\\\04MAY2024-04MAY2024_BILLS.parquet',\n",
       " 'C:\\\\Users\\\\tanmay\\\\IITM Capsstone Project\\\\txn_data\\\\05JUL2024-05JUL2024_BILLS.parquet',\n",
       " 'C:\\\\Users\\\\tanmay\\\\IITM Capsstone Project\\\\txn_data\\\\05JUN2024-05JUN2024_BILLS.parquet',\n",
       " 'C:\\\\Users\\\\tanmay\\\\IITM Capsstone Project\\\\txn_data\\\\05MAY2024-05MAY2024_BILLS.parquet',\n",
       " 'C:\\\\Users\\\\tanmay\\\\IITM Capsstone Project\\\\txn_data\\\\06JUL2024-06JUL2024_BILLS.parquet',\n",
       " 'C:\\\\Users\\\\tanmay\\\\IITM Capsstone Project\\\\txn_data\\\\06JUN2024-06JUN2024_BILLS.parquet',\n",
       " 'C:\\\\Users\\\\tanmay\\\\IITM Capsstone Project\\\\txn_data\\\\06MAY2024-06MAY2024_BILLS.parquet',\n",
       " 'C:\\\\Users\\\\tanmay\\\\IITM Capsstone Project\\\\txn_data\\\\07JUL2024-07JUL2024_BILLS.parquet',\n",
       " 'C:\\\\Users\\\\tanmay\\\\IITM Capsstone Project\\\\txn_data\\\\07JUN2024-07JUN2024_BILLS.parquet',\n",
       " 'C:\\\\Users\\\\tanmay\\\\IITM Capsstone Project\\\\txn_data\\\\07MAY2024-07MAY2024_BILLS.parquet',\n",
       " 'C:\\\\Users\\\\tanmay\\\\IITM Capsstone Project\\\\txn_data\\\\08JUL2024-08JUL2024_BILLS.parquet',\n",
       " 'C:\\\\Users\\\\tanmay\\\\IITM Capsstone Project\\\\txn_data\\\\08JUN2024-08JUN2024_BILLS.parquet',\n",
       " 'C:\\\\Users\\\\tanmay\\\\IITM Capsstone Project\\\\txn_data\\\\08MAY2024-08MAY2024_BILLS.parquet',\n",
       " 'C:\\\\Users\\\\tanmay\\\\IITM Capsstone Project\\\\txn_data\\\\09JUL2024-09JUL2024_BILLS.parquet',\n",
       " 'C:\\\\Users\\\\tanmay\\\\IITM Capsstone Project\\\\txn_data\\\\09JUN2024-09JUN2024_BILLS.parquet',\n",
       " 'C:\\\\Users\\\\tanmay\\\\IITM Capsstone Project\\\\txn_data\\\\09MAY2024-09MAY2024_BILLS.parquet',\n",
       " 'C:\\\\Users\\\\tanmay\\\\IITM Capsstone Project\\\\txn_data\\\\10JUL2024-10JUL2024_BILLS.parquet',\n",
       " 'C:\\\\Users\\\\tanmay\\\\IITM Capsstone Project\\\\txn_data\\\\10JUN2024-10JUN2024_BILLS.parquet',\n",
       " 'C:\\\\Users\\\\tanmay\\\\IITM Capsstone Project\\\\txn_data\\\\10MAY2024-10MAY2024_BILLS.parquet',\n",
       " 'C:\\\\Users\\\\tanmay\\\\IITM Capsstone Project\\\\txn_data\\\\11JUL2024-11JUL2024_BILLS.parquet',\n",
       " 'C:\\\\Users\\\\tanmay\\\\IITM Capsstone Project\\\\txn_data\\\\11JUN2024-11JUN2024_BILLS.parquet',\n",
       " 'C:\\\\Users\\\\tanmay\\\\IITM Capsstone Project\\\\txn_data\\\\11MAY2024-11MAY2024_BILLS.parquet',\n",
       " 'C:\\\\Users\\\\tanmay\\\\IITM Capsstone Project\\\\txn_data\\\\12JUL2024-12JUL2024_BILLS.parquet',\n",
       " 'C:\\\\Users\\\\tanmay\\\\IITM Capsstone Project\\\\txn_data\\\\12JUN2024-12JUN2024_BILLS.parquet',\n",
       " 'C:\\\\Users\\\\tanmay\\\\IITM Capsstone Project\\\\txn_data\\\\12MAY2024-12MAY2024_BILLS.parquet',\n",
       " 'C:\\\\Users\\\\tanmay\\\\IITM Capsstone Project\\\\txn_data\\\\13JUL2024-13JUL2024_BILLS.parquet',\n",
       " 'C:\\\\Users\\\\tanmay\\\\IITM Capsstone Project\\\\txn_data\\\\13JUN2024-13JUN2024_BILLS.parquet',\n",
       " 'C:\\\\Users\\\\tanmay\\\\IITM Capsstone Project\\\\txn_data\\\\13MAY2024-13MAY2024_BILLS.parquet',\n",
       " 'C:\\\\Users\\\\tanmay\\\\IITM Capsstone Project\\\\txn_data\\\\14JUL2024-14JUL2024_BILLS.parquet',\n",
       " 'C:\\\\Users\\\\tanmay\\\\IITM Capsstone Project\\\\txn_data\\\\14JUN2024-14JUN2024_BILLS.parquet',\n",
       " 'C:\\\\Users\\\\tanmay\\\\IITM Capsstone Project\\\\txn_data\\\\14MAY2024-14MAY2024_BILLS.parquet',\n",
       " 'C:\\\\Users\\\\tanmay\\\\IITM Capsstone Project\\\\txn_data\\\\15JUL2024-15JUL2024_BILLS.parquet',\n",
       " 'C:\\\\Users\\\\tanmay\\\\IITM Capsstone Project\\\\txn_data\\\\15JUN2024-15JUN2024_BILLS.parquet',\n",
       " 'C:\\\\Users\\\\tanmay\\\\IITM Capsstone Project\\\\txn_data\\\\15MAY2024-15MAY2024_BILLS.parquet',\n",
       " 'C:\\\\Users\\\\tanmay\\\\IITM Capsstone Project\\\\txn_data\\\\16JUL2024-16JUL2024_BILLS.parquet',\n",
       " 'C:\\\\Users\\\\tanmay\\\\IITM Capsstone Project\\\\txn_data\\\\16JUN2024-16JUN2024_BILLS.parquet',\n",
       " 'C:\\\\Users\\\\tanmay\\\\IITM Capsstone Project\\\\txn_data\\\\16MAY2024-16MAY2024_BILLS.parquet',\n",
       " 'C:\\\\Users\\\\tanmay\\\\IITM Capsstone Project\\\\txn_data\\\\17JUL2024-17JUL2024_BILLS.parquet',\n",
       " 'C:\\\\Users\\\\tanmay\\\\IITM Capsstone Project\\\\txn_data\\\\17JUN2024-17JUN2024_BILLS.parquet',\n",
       " 'C:\\\\Users\\\\tanmay\\\\IITM Capsstone Project\\\\txn_data\\\\17MAY2024-17MAY2024_BILLS.parquet',\n",
       " 'C:\\\\Users\\\\tanmay\\\\IITM Capsstone Project\\\\txn_data\\\\18JUL2024-18JUL2024_BILLS.parquet',\n",
       " 'C:\\\\Users\\\\tanmay\\\\IITM Capsstone Project\\\\txn_data\\\\18JUN2024-18JUN2024_BILLS.parquet',\n",
       " 'C:\\\\Users\\\\tanmay\\\\IITM Capsstone Project\\\\txn_data\\\\18MAY2024-18MAY2024_BILLS.parquet',\n",
       " 'C:\\\\Users\\\\tanmay\\\\IITM Capsstone Project\\\\txn_data\\\\19JUL2024-19JUL2024_BILLS.parquet',\n",
       " 'C:\\\\Users\\\\tanmay\\\\IITM Capsstone Project\\\\txn_data\\\\19JUN2024-19JUN2024_BILLS.parquet',\n",
       " 'C:\\\\Users\\\\tanmay\\\\IITM Capsstone Project\\\\txn_data\\\\19MAY2024-19MAY2024_BILLS.parquet',\n",
       " 'C:\\\\Users\\\\tanmay\\\\IITM Capsstone Project\\\\txn_data\\\\20JUL2024-20JUL2024_BILLS.parquet',\n",
       " 'C:\\\\Users\\\\tanmay\\\\IITM Capsstone Project\\\\txn_data\\\\20JUN2024-20JUN2024_BILLS.parquet',\n",
       " 'C:\\\\Users\\\\tanmay\\\\IITM Capsstone Project\\\\txn_data\\\\20MAY2024-20MAY2024_BILLS.parquet',\n",
       " 'C:\\\\Users\\\\tanmay\\\\IITM Capsstone Project\\\\txn_data\\\\21JUL2024-21JUL2024_BILLS.parquet',\n",
       " 'C:\\\\Users\\\\tanmay\\\\IITM Capsstone Project\\\\txn_data\\\\21JUN2024-21JUN2024_BILLS.parquet',\n",
       " 'C:\\\\Users\\\\tanmay\\\\IITM Capsstone Project\\\\txn_data\\\\21MAY2024-21MAY2024_BILLS.parquet',\n",
       " 'C:\\\\Users\\\\tanmay\\\\IITM Capsstone Project\\\\txn_data\\\\22JUL2024-22JUL2024_BILLS.parquet',\n",
       " 'C:\\\\Users\\\\tanmay\\\\IITM Capsstone Project\\\\txn_data\\\\22JUN2024-22JUN2024_BILLS.parquet',\n",
       " 'C:\\\\Users\\\\tanmay\\\\IITM Capsstone Project\\\\txn_data\\\\22MAY2024-22MAY2024_BILLS.parquet',\n",
       " 'C:\\\\Users\\\\tanmay\\\\IITM Capsstone Project\\\\txn_data\\\\23JUL2024-23JUL2024_BILLS.parquet',\n",
       " 'C:\\\\Users\\\\tanmay\\\\IITM Capsstone Project\\\\txn_data\\\\23JUN2024-23JUN2024_BILLS.parquet',\n",
       " 'C:\\\\Users\\\\tanmay\\\\IITM Capsstone Project\\\\txn_data\\\\23MAY2024-23MAY2024_BILLS.parquet',\n",
       " 'C:\\\\Users\\\\tanmay\\\\IITM Capsstone Project\\\\txn_data\\\\24JUL2024-24JUL2024_BILLS.parquet',\n",
       " 'C:\\\\Users\\\\tanmay\\\\IITM Capsstone Project\\\\txn_data\\\\24JUN2024-24JUN2024_BILLS.parquet',\n",
       " 'C:\\\\Users\\\\tanmay\\\\IITM Capsstone Project\\\\txn_data\\\\24MAY2024-24MAY2024_BILLS.parquet',\n",
       " 'C:\\\\Users\\\\tanmay\\\\IITM Capsstone Project\\\\txn_data\\\\25JUL2024-25JUL2024_BILLS.parquet',\n",
       " 'C:\\\\Users\\\\tanmay\\\\IITM Capsstone Project\\\\txn_data\\\\25JUN2024-25JUN2024_BILLS.parquet',\n",
       " 'C:\\\\Users\\\\tanmay\\\\IITM Capsstone Project\\\\txn_data\\\\25MAY2024-25MAY2024_BILLS.parquet',\n",
       " 'C:\\\\Users\\\\tanmay\\\\IITM Capsstone Project\\\\txn_data\\\\26JUL2024-26JUL2024_BILLS.parquet',\n",
       " 'C:\\\\Users\\\\tanmay\\\\IITM Capsstone Project\\\\txn_data\\\\26JUN2024-26JUN2024_BILLS.parquet',\n",
       " 'C:\\\\Users\\\\tanmay\\\\IITM Capsstone Project\\\\txn_data\\\\26MAY2024-26MAY2024_BILLS.parquet',\n",
       " 'C:\\\\Users\\\\tanmay\\\\IITM Capsstone Project\\\\txn_data\\\\27JUL2024-27JUL2024_BILLS.parquet',\n",
       " 'C:\\\\Users\\\\tanmay\\\\IITM Capsstone Project\\\\txn_data\\\\27JUN2024-27JUN2024_BILLS.parquet',\n",
       " 'C:\\\\Users\\\\tanmay\\\\IITM Capsstone Project\\\\txn_data\\\\27MAY2024-27MAY2024_BILLS.parquet',\n",
       " 'C:\\\\Users\\\\tanmay\\\\IITM Capsstone Project\\\\txn_data\\\\28JUL2024-28JUL2024_BILLS.parquet',\n",
       " 'C:\\\\Users\\\\tanmay\\\\IITM Capsstone Project\\\\txn_data\\\\28JUN2024-28JUN2024_BILLS.parquet',\n",
       " 'C:\\\\Users\\\\tanmay\\\\IITM Capsstone Project\\\\txn_data\\\\28MAY2024-28MAY2024_BILLS.parquet',\n",
       " 'C:\\\\Users\\\\tanmay\\\\IITM Capsstone Project\\\\txn_data\\\\29JUL2024-29JUL2024_BILLS.parquet',\n",
       " 'C:\\\\Users\\\\tanmay\\\\IITM Capsstone Project\\\\txn_data\\\\29JUN2024-29JUN2024_BILLS.parquet',\n",
       " 'C:\\\\Users\\\\tanmay\\\\IITM Capsstone Project\\\\txn_data\\\\29MAY2024-29MAY2024_BILLS.parquet',\n",
       " 'C:\\\\Users\\\\tanmay\\\\IITM Capsstone Project\\\\txn_data\\\\30JUL2024-30JUL2024_BILLS.parquet',\n",
       " 'C:\\\\Users\\\\tanmay\\\\IITM Capsstone Project\\\\txn_data\\\\30JUN2024-30JUN2024_BILLS.parquet',\n",
       " 'C:\\\\Users\\\\tanmay\\\\IITM Capsstone Project\\\\txn_data\\\\30MAY2024-30MAY2024_BILLS.parquet',\n",
       " 'C:\\\\Users\\\\tanmay\\\\IITM Capsstone Project\\\\txn_data\\\\31JUL2024-31JUL2024_BILLS.parquet',\n",
       " 'C:\\\\Users\\\\tanmay\\\\IITM Capsstone Project\\\\txn_data\\\\31MAY2024-31MAY2024_BILLS.parquet']"
      ]
     },
     "execution_count": 2,
     "metadata": {},
     "output_type": "execute_result"
    }
   ],
   "source": [
    "mypath = r\"C:\\Users\\tanmay\\IITM Capsstone Project\\txn_data\"\n",
    "onlyfiles = [path.join(mypath, f) for f in listdir(mypath)]\n",
    "onlyfiles = onlyfiles[:-1]\n",
    "onlyfiles"
   ]
  },
  {
   "cell_type": "code",
   "execution_count": 4,
   "id": "d162448c",
   "metadata": {},
   "outputs": [],
   "source": [
    "df1= pd.DataFrame()\n",
    "df2= pd.DataFrame()\n",
    "df3= pd.DataFrame()\n",
    "df4= pd.DataFrame()\n",
    "\n",
    "for f in onlyfiles[:24]:\n",
    "    df1 = pd.concat([df1, pd.read_parquet(f)])\n",
    "\n",
    "for f in onlyfiles[24:47]:\n",
    "    df2 = pd.concat([df2, pd.read_parquet(f)])\n",
    "\n",
    "for f in onlyfiles[47:70]:\n",
    "    df3 = pd.concat([df3, pd.read_parquet(f)])\n",
    "\n",
    "for f in onlyfiles[70:]:\n",
    "    df4 = pd.concat([df4, pd.read_parquet(f)])"
   ]
  },
  {
   "cell_type": "code",
   "execution_count": 10,
   "id": "1686b721",
   "metadata": {},
   "outputs": [],
   "source": [
    "df1[\"BILLDATE\"] = pd.to_datetime(df1[\"BILLDATE\"])\n",
    "df2[\"BILLDATE\"] = pd.to_datetime(df2[\"BILLDATE\"])\n",
    "df3[\"BILLDATE\"] = pd.to_datetime(df3[\"BILLDATE\"])\n",
    "df4[\"BILLDATE\"] = pd.to_datetime(df4[\"BILLDATE\"])"
   ]
  },
  {
   "cell_type": "code",
   "execution_count": 11,
   "id": "14b92b9c",
   "metadata": {},
   "outputs": [],
   "source": [
    "mayDf = pd.concat([df1[df1[\"BILLDATE\"].dt.month == 5],df2[df2[\"BILLDATE\"].dt.month == 5],df3[df3[\"BILLDATE\"].dt.month == 5],df4[df4[\"BILLDATE\"].dt.month == 5]])\n",
    "juneDf = pd.concat([df1[df1[\"BILLDATE\"].dt.month == 6],df2[df2[\"BILLDATE\"].dt.month == 6],df3[df3[\"BILLDATE\"].dt.month == 6],df4[df4[\"BILLDATE\"].dt.month == 6]])\n",
    "julyDf = pd.concat([df1[df1[\"BILLDATE\"].dt.month == 7],df2[df2[\"BILLDATE\"].dt.month == 7],df3[df3[\"BILLDATE\"].dt.month == 7],df4[df4[\"BILLDATE\"].dt.month == 7]])"
   ]
  },
  {
   "cell_type": "code",
   "execution_count": 12,
   "id": "597132e0",
   "metadata": {},
   "outputs": [],
   "source": [
    "mayDf.to_csv(\"mayDf.csv\")\n",
    "juneDf.to_csv(\"juneDf.csv\")\n",
    "julyDf.to_csv(\"julyDf.csv\")"
   ]
  },
  {
   "cell_type": "code",
   "execution_count": null,
   "id": "808cef9e",
   "metadata": {},
   "outputs": [],
   "source": []
  }
 ],
 "metadata": {
  "kernelspec": {
   "display_name": "Python 3 (ipykernel)",
   "language": "python",
   "name": "python3"
  },
  "language_info": {
   "codemirror_mode": {
    "name": "ipython",
    "version": 3
   },
   "file_extension": ".py",
   "mimetype": "text/x-python",
   "name": "python",
   "nbconvert_exporter": "python",
   "pygments_lexer": "ipython3",
   "version": "3.11.3"
  }
 },
 "nbformat": 4,
 "nbformat_minor": 5
}
